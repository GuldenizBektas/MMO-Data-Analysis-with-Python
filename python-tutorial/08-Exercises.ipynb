{
 "cells": [
  {
   "cell_type": "markdown",
   "id": "bb1d1fc9",
   "metadata": {},
   "source": [
    "### **Note**:\n",
    "\n",
    "* To get an input from user, you can use `input()` method.\n",
    "\n",
    "* You can use `str()`, `int()`, `float()`, `list()`, `dict()`, `set()` to convert."
   ]
  },
  {
   "cell_type": "code",
   "execution_count": 3,
   "id": "c7262af6",
   "metadata": {},
   "outputs": [
    {
     "name": "stdout",
     "output_type": "stream",
     "text": [
      "What is your name?: 13\n",
      "<class 'str'>\n"
     ]
    }
   ],
   "source": [
    "user = input(\"What is your name?: \")\n",
    "print(type(user))"
   ]
  },
  {
   "cell_type": "code",
   "execution_count": 4,
   "id": "ead48bc2",
   "metadata": {},
   "outputs": [
    {
     "name": "stdout",
     "output_type": "stream",
     "text": [
      "What is your age?: 25\n",
      "<class 'int'>\n"
     ]
    }
   ],
   "source": [
    "user = input(\"What is your age?: \")\n",
    "print(type(int(user)))"
   ]
  },
  {
   "cell_type": "markdown",
   "id": "171337f7",
   "metadata": {},
   "source": [
    "### #1\n",
    "\n",
    "What a program to check if user input is negative or positive."
   ]
  },
  {
   "cell_type": "code",
   "execution_count": null,
   "id": "4c0bb069",
   "metadata": {},
   "outputs": [],
   "source": []
  },
  {
   "cell_type": "markdown",
   "id": "ca1f6fad",
   "metadata": {},
   "source": [
    "### #2\n",
    "\n",
    "A number is even if it is perfectly divisible by 2. When the number is divided by 2, we use the remainder operator % to compute the remainder. If the remainder is not zero, the number is odd."
   ]
  },
  {
   "cell_type": "code",
   "execution_count": null,
   "id": "922f200d",
   "metadata": {},
   "outputs": [],
   "source": []
  },
  {
   "cell_type": "markdown",
   "id": "4c385202",
   "metadata": {},
   "source": [
    "### #3\n",
    "\n",
    "A leap year is exactly divisible by 4 except for century years (years ending with 00). The century year is a leap year only if it is perfectly divisible by 400. For example,\n",
    "\n",
    "`2017 is not a leap year`\n",
    "\n",
    "`1900 is a not leap year`\n",
    "\n",
    "`2012 is a leap year`\n",
    "\n",
    "`2000 is a leap year`"
   ]
  },
  {
   "cell_type": "code",
   "execution_count": null,
   "id": "2b05473b",
   "metadata": {},
   "outputs": [],
   "source": []
  },
  {
   "cell_type": "markdown",
   "id": "a7087deb",
   "metadata": {},
   "source": [
    "### #4\n",
    "\n",
    "A positive integer greater than 1 which has no other factors except 1 and the number itself is called a prime number. 2, 3, 5, 7 etc. are prime numbers as they do not have any other factors. But 6 is not prime (it is composite) since, `2 x 3 = 6`."
   ]
  },
  {
   "cell_type": "code",
   "execution_count": null,
   "id": "1e7cf389",
   "metadata": {},
   "outputs": [],
   "source": []
  },
  {
   "cell_type": "markdown",
   "id": "ee68f846",
   "metadata": {},
   "source": [
    "### #5\n",
    "\n",
    "A positive integer greater than 1 which has no other factors except 1 and the number itself is called a prime number.\n",
    "2, 3, 5, 7 etc. are prime numbers as they do not have any other factors. But 6 is not prime (it is composite) since, `2 x 3 = 6`."
   ]
  },
  {
   "cell_type": "code",
   "execution_count": null,
   "id": "58df6b3d",
   "metadata": {},
   "outputs": [],
   "source": []
  }
 ],
 "metadata": {
  "kernelspec": {
   "display_name": "Python 3 (ipykernel)",
   "language": "python",
   "name": "python3"
  },
  "language_info": {
   "codemirror_mode": {
    "name": "ipython",
    "version": 3
   },
   "file_extension": ".py",
   "mimetype": "text/x-python",
   "name": "python",
   "nbconvert_exporter": "python",
   "pygments_lexer": "ipython3",
   "version": "3.10.6"
  }
 },
 "nbformat": 4,
 "nbformat_minor": 5
}
