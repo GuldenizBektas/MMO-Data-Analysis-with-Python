{
 "cells": [
  {
   "cell_type": "code",
   "execution_count": 1,
   "id": "0e2027e9",
   "metadata": {},
   "outputs": [
    {
     "name": "stdout",
     "output_type": "stream",
     "text": [
      "Python 3.10.6\r\n"
     ]
    }
   ],
   "source": [
    "!python3 --version"
   ]
  },
  {
   "cell_type": "markdown",
   "id": "3905d937",
   "metadata": {},
   "source": [
    "When I created this env with conda I specified Python's version as 3.10. It downladed the stable version.\n",
    "\n",
    "`conda create --prefix ./env python=3.10`\n",
    "\n",
    "You can specify it as 3.8 or 3.9 but I wanted to use since it is a Python tutorial. When you'll have to work with Tensorflow or Torch you might have to work with different versions depends on your system."
   ]
  },
  {
   "cell_type": "markdown",
   "id": "9274d6f6",
   "metadata": {},
   "source": [
    "# Variables\n",
    "\n",
    "When using a programing language, you'll need to manage values, a lot of them. To store values, you use variables. You can assign a list, string, integer to it."
   ]
  },
  {
   "cell_type": "code",
   "execution_count": 2,
   "id": "13f48d24",
   "metadata": {},
   "outputs": [
    {
     "data": {
      "text/plain": [
       "330"
      ]
     },
     "execution_count": 2,
     "metadata": {},
     "output_type": "execute_result"
    }
   ],
   "source": [
    "# değişken / variable\n",
    "x = 10\n",
    "y = 23\n",
    "\n",
    "x * y + 100"
   ]
  },
  {
   "cell_type": "code",
   "execution_count": 5,
   "id": "ac0d25c2",
   "metadata": {
    "scrolled": true
   },
   "outputs": [
    {
     "name": "stdout",
     "output_type": "stream",
     "text": [
      "X vairable is 10 .\n",
      "Y variable is 23 .\n"
     ]
    }
   ],
   "source": [
    "print(\"X vairable is\", x)\n",
    "print(\"Y variable is\", y)"
   ]
  },
  {
   "cell_type": "markdown",
   "id": "db9b383e",
   "metadata": {},
   "source": [
    "# Numbers"
   ]
  },
  {
   "cell_type": "code",
   "execution_count": 50,
   "id": "d51b60da",
   "metadata": {},
   "outputs": [
    {
     "data": {
      "text/plain": [
       "100"
      ]
     },
     "execution_count": 50,
     "metadata": {},
     "output_type": "execute_result"
    }
   ],
   "source": [
    "x ** 2"
   ]
  },
  {
   "cell_type": "code",
   "execution_count": 51,
   "id": "8d38f294",
   "metadata": {},
   "outputs": [
    {
     "data": {
      "text/plain": [
       "1.0"
      ]
     },
     "execution_count": 51,
     "metadata": {},
     "output_type": "execute_result"
    }
   ],
   "source": [
    "x / 10 # always float"
   ]
  },
  {
   "cell_type": "code",
   "execution_count": 52,
   "id": "f5af088c",
   "metadata": {},
   "outputs": [
    {
     "data": {
      "text/plain": [
       "10.3"
      ]
     },
     "execution_count": 52,
     "metadata": {},
     "output_type": "execute_result"
    }
   ],
   "source": [
    "x + .3"
   ]
  },
  {
   "cell_type": "code",
   "execution_count": 54,
   "id": "5ce81036",
   "metadata": {},
   "outputs": [
    {
     "data": {
      "text/plain": [
       "0.30000000000000004"
      ]
     },
     "execution_count": 54,
     "metadata": {},
     "output_type": "execute_result"
    }
   ],
   "source": [
    ".1 + .2 # Python will try to represent the result as precisely as possible \n",
    "        # However, you may get the result that you would not expect\n",
    "    "
   ]
  },
  {
   "cell_type": "code",
   "execution_count": 55,
   "id": "acf2bef6",
   "metadata": {},
   "outputs": [],
   "source": [
    "# when number is large\n",
    "X1 = 1000000000\n",
    "# you can use underscore\n",
    "X2 = 10.000"
   ]
  },
  {
   "cell_type": "code",
   "execution_count": 56,
   "id": "81688811",
   "metadata": {},
   "outputs": [
    {
     "name": "stdout",
     "output_type": "stream",
     "text": [
      "10.0\n"
     ]
    }
   ],
   "source": [
    "print(X2) # take dot as float"
   ]
  },
  {
   "cell_type": "code",
   "execution_count": 58,
   "id": "4843a8bf",
   "metadata": {},
   "outputs": [
    {
     "data": {
      "text/plain": [
       "10000"
      ]
     },
     "execution_count": 58,
     "metadata": {},
     "output_type": "execute_result"
    }
   ],
   "source": [
    "X3 = 10_000 # use underscore\n",
    "X3"
   ]
  },
  {
   "cell_type": "code",
   "execution_count": 6,
   "id": "65e353c9",
   "metadata": {},
   "outputs": [],
   "source": [
    "string = \"this is amazing\""
   ]
  },
  {
   "cell_type": "code",
   "execution_count": 7,
   "id": "94164b10",
   "metadata": {},
   "outputs": [
    {
     "data": {
      "text/plain": [
       "'this is amazing'"
      ]
     },
     "execution_count": 7,
     "metadata": {},
     "output_type": "execute_result"
    }
   ],
   "source": [
    "string"
   ]
  },
  {
   "cell_type": "code",
   "execution_count": 8,
   "id": "60449209",
   "metadata": {},
   "outputs": [
    {
     "data": {
      "text/plain": [
       "str"
      ]
     },
     "execution_count": 8,
     "metadata": {},
     "output_type": "execute_result"
    }
   ],
   "source": [
    "type(string)"
   ]
  },
  {
   "cell_type": "code",
   "execution_count": 9,
   "id": "5d744585",
   "metadata": {},
   "outputs": [
    {
     "data": {
      "text/plain": [
       "int"
      ]
     },
     "execution_count": 9,
     "metadata": {},
     "output_type": "execute_result"
    }
   ],
   "source": [
    "type(x)"
   ]
  },
  {
   "cell_type": "markdown",
   "id": "d5dab258",
   "metadata": {},
   "source": [
    "Whatever type you g,ve to the variable, the output of that variable will have the same type. You can display the type of anything with `type()` method."
   ]
  },
  {
   "cell_type": "code",
   "execution_count": 10,
   "id": "5514646a",
   "metadata": {},
   "outputs": [
    {
     "ename": "TypeError",
     "evalue": "can only concatenate str (not \"int\") to str",
     "output_type": "error",
     "traceback": [
      "\u001b[0;31m---------------------------------------------------------------------------\u001b[0m",
      "\u001b[0;31mTypeError\u001b[0m                                 Traceback (most recent call last)",
      "Cell \u001b[0;32mIn [10], line 1\u001b[0m\n\u001b[0;32m----> 1\u001b[0m \u001b[43mstring\u001b[49m\u001b[43m \u001b[49m\u001b[38;5;241;43m+\u001b[39;49m\u001b[43m \u001b[49m\u001b[43mx\u001b[49m\n",
      "\u001b[0;31mTypeError\u001b[0m: can only concatenate str (not \"int\") to str"
     ]
    }
   ],
   "source": [
    "string + x # must have the same type"
   ]
  },
  {
   "cell_type": "code",
   "execution_count": 13,
   "id": "a2302b6f",
   "metadata": {},
   "outputs": [
    {
     "name": "stdout",
     "output_type": "stream",
     "text": [
      "this is amazingthis is amazing\n",
      "this is amazing this is amazing\n"
     ]
    }
   ],
   "source": [
    "print(string + string)\n",
    "print(string + \" \" + string)"
   ]
  },
  {
   "cell_type": "markdown",
   "id": "2cb4edc1",
   "metadata": {},
   "source": [
    "### Naming Variables\n",
    "\n",
    "When you name a variable, you need to adhere to some rules. If you don’t, you’ll get an error.\n",
    "\n",
    "The following are the variable rules that you should keep in mind:\n",
    "\n",
    "* Variable names can contain only letters, numbers, and underscores ( _ ). They can start with a letter or an underscore ( _ ), not with a number.\n",
    "\n",
    "* Variable names cannot contain spaces. To separate words in variables, you use underscores for example `sorted_list`.\n",
    "\n",
    "* Variable names cannot be the same as keywords, reserved words, and built-in functions in Python.\n",
    "\n",
    "The following guidelines help you define good variable names:\n",
    "\n",
    "* Variable names should be concise and descriptive. For example, the `active_user` variable is more descriptive than the `au`.\n",
    "\n",
    "* Use underscores (_) to separate multiple words in the variable names.\n",
    "\n",
    "* Avoid using the letter `l` and the uppercase letter `O` because they look like the number `1` and `0`."
   ]
  },
  {
   "cell_type": "markdown",
   "id": "296d89bc",
   "metadata": {},
   "source": [
    "# String"
   ]
  },
  {
   "cell_type": "code",
   "execution_count": 14,
   "id": "2da1eac6",
   "metadata": {},
   "outputs": [],
   "source": [
    "message = \"This is a string in Python.\""
   ]
  },
  {
   "cell_type": "code",
   "execution_count": 15,
   "id": "7ef97b7d",
   "metadata": {},
   "outputs": [],
   "source": [
    "message2 = 'This is also a string in Python.'"
   ]
  },
  {
   "cell_type": "code",
   "execution_count": 16,
   "id": "263fcb7c",
   "metadata": {},
   "outputs": [
    {
     "name": "stdout",
     "output_type": "stream",
     "text": [
      "This is a string in Python.\n",
      "This is also a string in Python.\n"
     ]
    }
   ],
   "source": [
    "print(message)\n",
    "print(message2)"
   ]
  },
  {
   "cell_type": "code",
   "execution_count": 17,
   "id": "2734191a",
   "metadata": {},
   "outputs": [
    {
     "ename": "SyntaxError",
     "evalue": "unterminated string literal (detected at line 2) (432413387.py, line 2)",
     "output_type": "error",
     "traceback": [
      "\u001b[0;36m  Cell \u001b[0;32mIn [17], line 2\u001b[0;36m\u001b[0m\n\u001b[0;31m    message = 'It's a string'\u001b[0m\n\u001b[0m                            ^\u001b[0m\n\u001b[0;31mSyntaxError\u001b[0m\u001b[0;31m:\u001b[0m unterminated string literal (detected at line 2)\n"
     ]
    }
   ],
   "source": [
    "# but what if...\n",
    "message = 'It's a string'"
   ]
  },
  {
   "cell_type": "markdown",
   "id": "50f2f7d8",
   "metadata": {},
   "source": [
    "🗣 If a string contains a single quote, you should place it in double-quotes.\n",
    "\n",
    "🗣 And when a string contains double quotes, you can use the single quotes.\n"
   ]
  },
  {
   "cell_type": "code",
   "execution_count": 18,
   "id": "7e2d38b1",
   "metadata": {},
   "outputs": [
    {
     "data": {
      "text/plain": [
       "\"It's a string\""
      ]
     },
     "execution_count": 18,
     "metadata": {},
     "output_type": "execute_result"
    }
   ],
   "source": [
    "\"It's a string\""
   ]
  },
  {
   "cell_type": "markdown",
   "id": "43e4d929",
   "metadata": {},
   "source": [
    "Or you should escape the quotes. Use backlash `\\` before single quote."
   ]
  },
  {
   "cell_type": "code",
   "execution_count": 19,
   "id": "a10088eb",
   "metadata": {},
   "outputs": [
    {
     "data": {
      "text/plain": [
       "\"It's also a valid string in Python\""
      ]
     },
     "execution_count": 19,
     "metadata": {},
     "output_type": "execute_result"
    }
   ],
   "source": [
    "'It\\'s also a valid string in Python'"
   ]
  },
  {
   "cell_type": "markdown",
   "id": "949d0ff8",
   "metadata": {},
   "source": [
    "### Creating multiline string"
   ]
  },
  {
   "cell_type": "code",
   "execution_count": 32,
   "id": "0480720c",
   "metadata": {},
   "outputs": [],
   "source": [
    "message = '''\n",
    "Usage: mysql command\n",
    "    -h hostname     \n",
    "    -d database name\n",
    "    -u username\n",
    "    -p password \n",
    "'''"
   ]
  },
  {
   "cell_type": "code",
   "execution_count": 33,
   "id": "d3808679",
   "metadata": {},
   "outputs": [
    {
     "name": "stdout",
     "output_type": "stream",
     "text": [
      "\n",
      "Usage: mysql command\n",
      "    -h hostname     \n",
      "    -d database name\n",
      "    -u username\n",
      "    -p password \n",
      "\n"
     ]
    }
   ],
   "source": [
    "print(message)"
   ]
  },
  {
   "cell_type": "code",
   "execution_count": 34,
   "id": "b2e4a03b",
   "metadata": {},
   "outputs": [
    {
     "name": "stdout",
     "output_type": "stream",
     "text": [
      "Hello Deniz\n"
     ]
    }
   ],
   "source": [
    "name = \"Deniz\"\n",
    "message = \"Hello\"\n",
    "\n",
    "print(f\"{message} {name}\")"
   ]
  },
  {
   "cell_type": "code",
   "execution_count": 35,
   "id": "aa673115",
   "metadata": {},
   "outputs": [
    {
     "name": "stdout",
     "output_type": "stream",
     "text": [
      "Hello Deniz\n"
     ]
    }
   ],
   "source": [
    "print(\"Hello\", name)"
   ]
  },
  {
   "cell_type": "code",
   "execution_count": 36,
   "id": "597b1bfb",
   "metadata": {},
   "outputs": [
    {
     "name": "stdout",
     "output_type": "stream",
     "text": [
      "Hello Deniz\n"
     ]
    }
   ],
   "source": [
    "print(\"{} {}\".format(message, name))"
   ]
  },
  {
   "cell_type": "markdown",
   "id": "5089b400",
   "metadata": {},
   "source": [
    "### Accessing string elements"
   ]
  },
  {
   "cell_type": "code",
   "execution_count": 40,
   "id": "2b9d9921",
   "metadata": {},
   "outputs": [
    {
     "name": "stdout",
     "output_type": "stream",
     "text": [
      "T\n",
      "These\n"
     ]
    }
   ],
   "source": [
    "message = \"These boots are made for walking\"\n",
    "\n",
    "print(message[0])\n",
    "print(message[0:5])"
   ]
  },
  {
   "cell_type": "code",
   "execution_count": 47,
   "id": "290d271a",
   "metadata": {},
   "outputs": [
    {
     "name": "stdout",
     "output_type": "stream",
     "text": [
      "g\n",
      "walking\n"
     ]
    }
   ],
   "source": [
    "print(message[-1])\n",
    "print(message[-7:])"
   ]
  },
  {
   "attachments": {
    "Screen%20Shot%202022-11-05%20at%2014.06.24.png": {
     "image/png": "[encoded data removed]"
    }
   },
   "cell_type": "markdown",
   "id": "b710725f",
   "metadata": {},
   "source": [
    "![Screen%20Shot%202022-11-05%20at%2014.06.24.png](attachment:Screen%20Shot%202022-11-05%20at%2014.06.24.png)"
   ]
  },
  {
   "cell_type": "code",
   "execution_count": 48,
   "id": "3f91e6d0",
   "metadata": {},
   "outputs": [
    {
     "data": {
      "text/plain": [
       "32"
      ]
     },
     "execution_count": 48,
     "metadata": {},
     "output_type": "execute_result"
    }
   ],
   "source": [
    "len(message)"
   ]
  },
  {
   "cell_type": "markdown",
   "id": "6a354492",
   "metadata": {},
   "source": [
    "**Strings are immutable.**"
   ]
  },
  {
   "cell_type": "code",
   "execution_count": 49,
   "id": "a546f3bb",
   "metadata": {},
   "outputs": [
    {
     "ename": "TypeError",
     "evalue": "'str' object does not support item assignment",
     "output_type": "error",
     "traceback": [
      "\u001b[0;31m---------------------------------------------------------------------------\u001b[0m",
      "\u001b[0;31mTypeError\u001b[0m                                 Traceback (most recent call last)",
      "Cell \u001b[0;32mIn [49], line 1\u001b[0m\n\u001b[0;32m----> 1\u001b[0m \u001b[43mmessage\u001b[49m\u001b[43m[\u001b[49m\u001b[38;5;241;43m0\u001b[39;49m\u001b[43m]\u001b[49m \u001b[38;5;241m=\u001b[39m \u001b[38;5;124m\"\u001b[39m\u001b[38;5;124mA\u001b[39m\u001b[38;5;124m\"\u001b[39m\n",
      "\u001b[0;31mTypeError\u001b[0m: 'str' object does not support item assignment"
     ]
    }
   ],
   "source": [
    "message[0] = \"A\""
   ]
  },
  {
   "cell_type": "markdown",
   "id": "3faf2cc5",
   "metadata": {},
   "source": [
    "# Boolean"
   ]
  },
  {
   "cell_type": "markdown",
   "id": "1b156c12",
   "metadata": {},
   "source": [
    "In programming, you often want to check if a condition is true or not and perform some actions based on the result.\n",
    "\n",
    "To represent true and false, Python provides you with the boolean data type. The boolean value has a technical name as `bool`.\n",
    "\n",
    "👉🏽 Note that the boolean values `True` and `False` start with the capital letters (`T`) and (`F`)."
   ]
  },
  {
   "cell_type": "code",
   "execution_count": 59,
   "id": "6145602b",
   "metadata": {},
   "outputs": [],
   "source": [
    "is_active = True\n",
    "is_admin = False"
   ]
  },
  {
   "cell_type": "code",
   "execution_count": 61,
   "id": "93883d1c",
   "metadata": {},
   "outputs": [
    {
     "data": {
      "text/plain": [
       "bool"
      ]
     },
     "execution_count": 61,
     "metadata": {},
     "output_type": "execute_result"
    }
   ],
   "source": [
    "type(is_active)"
   ]
  },
  {
   "cell_type": "code",
   "execution_count": 62,
   "id": "8dd220ad",
   "metadata": {},
   "outputs": [
    {
     "data": {
      "text/plain": [
       "True"
      ]
     },
     "execution_count": 62,
     "metadata": {},
     "output_type": "execute_result"
    }
   ],
   "source": [
    "20 > 10"
   ]
  },
  {
   "cell_type": "code",
   "execution_count": 63,
   "id": "e9521ec6",
   "metadata": {},
   "outputs": [
    {
     "data": {
      "text/plain": [
       "False"
      ]
     },
     "execution_count": 63,
     "metadata": {},
     "output_type": "execute_result"
    }
   ],
   "source": [
    "20 == 10"
   ]
  },
  {
   "cell_type": "code",
   "execution_count": 64,
   "id": "392dd403",
   "metadata": {},
   "outputs": [
    {
     "data": {
      "text/plain": [
       "True"
      ]
     },
     "execution_count": 64,
     "metadata": {},
     "output_type": "execute_result"
    }
   ],
   "source": [
    "20 >= 20"
   ]
  },
  {
   "cell_type": "code",
   "execution_count": 65,
   "id": "eb876257",
   "metadata": {},
   "outputs": [
    {
     "data": {
      "text/plain": [
       "False"
      ]
     },
     "execution_count": 65,
     "metadata": {},
     "output_type": "execute_result"
    }
   ],
   "source": [
    "\"a\" > \"b\""
   ]
  },
  {
   "cell_type": "code",
   "execution_count": 66,
   "id": "dd60c767",
   "metadata": {},
   "outputs": [
    {
     "data": {
      "text/plain": [
       "True"
      ]
     },
     "execution_count": 66,
     "metadata": {},
     "output_type": "execute_result"
    }
   ],
   "source": [
    "'a' < \"b\""
   ]
  },
  {
   "cell_type": "markdown",
   "id": "7b318897",
   "metadata": {},
   "source": [
    "# Input"
   ]
  },
  {
   "cell_type": "code",
   "execution_count": 68,
   "id": "6b1ef414",
   "metadata": {},
   "outputs": [
    {
     "name": "stdout",
     "output_type": "stream",
     "text": [
      "Enter a value: omg\n",
      "omg\n"
     ]
    }
   ],
   "source": [
    "value = input(\"Enter a value: \")\n",
    "print(value)"
   ]
  },
  {
   "cell_type": "code",
   "execution_count": 69,
   "id": "7c894446",
   "metadata": {},
   "outputs": [
    {
     "name": "stdout",
     "output_type": "stream",
     "text": [
      "Enter a value: omg\n"
     ]
    },
    {
     "ename": "ValueError",
     "evalue": "invalid literal for int() with base 10: 'omg'",
     "output_type": "error",
     "traceback": [
      "\u001b[0;31m---------------------------------------------------------------------------\u001b[0m",
      "\u001b[0;31mValueError\u001b[0m                                Traceback (most recent call last)",
      "Cell \u001b[0;32mIn [69], line 1\u001b[0m\n\u001b[0;32m----> 1\u001b[0m value \u001b[38;5;241m=\u001b[39m \u001b[38;5;28;43mint\u001b[39;49m\u001b[43m(\u001b[49m\u001b[38;5;28;43minput\u001b[39;49m\u001b[43m(\u001b[49m\u001b[38;5;124;43m\"\u001b[39;49m\u001b[38;5;124;43mEnter a value: \u001b[39;49m\u001b[38;5;124;43m\"\u001b[39;49m\u001b[43m)\u001b[49m\u001b[43m)\u001b[49m\n\u001b[1;32m      2\u001b[0m \u001b[38;5;28mprint\u001b[39m(value)\n",
      "\u001b[0;31mValueError\u001b[0m: invalid literal for int() with base 10: 'omg'"
     ]
    }
   ],
   "source": [
    "value = int(input(\"Enter a value: \"))\n",
    "print(value)"
   ]
  },
  {
   "cell_type": "code",
   "execution_count": 70,
   "id": "833d0f6d",
   "metadata": {},
   "outputs": [
    {
     "name": "stdout",
     "output_type": "stream",
     "text": [
      "Enter the price ($):30\n",
      "Enter the tax rate (%):1\n"
     ]
    },
    {
     "ename": "TypeError",
     "evalue": "can't multiply sequence by non-int of type 'str'",
     "output_type": "error",
     "traceback": [
      "\u001b[0;31m---------------------------------------------------------------------------\u001b[0m",
      "\u001b[0;31mTypeError\u001b[0m                                 Traceback (most recent call last)",
      "Cell \u001b[0;32mIn [70], line 4\u001b[0m\n\u001b[1;32m      1\u001b[0m price \u001b[38;5;241m=\u001b[39m \u001b[38;5;28minput\u001b[39m(\u001b[38;5;124m'\u001b[39m\u001b[38;5;124mEnter the price ($):\u001b[39m\u001b[38;5;124m'\u001b[39m)\n\u001b[1;32m      2\u001b[0m tax \u001b[38;5;241m=\u001b[39m \u001b[38;5;28minput\u001b[39m(\u001b[38;5;124m'\u001b[39m\u001b[38;5;124mEnter the tax rate (\u001b[39m\u001b[38;5;124m%\u001b[39m\u001b[38;5;124m):\u001b[39m\u001b[38;5;124m'\u001b[39m)\n\u001b[0;32m----> 4\u001b[0m net_price \u001b[38;5;241m=\u001b[39m \u001b[43mprice\u001b[49m\u001b[43m \u001b[49m\u001b[38;5;241;43m*\u001b[39;49m\u001b[43m \u001b[49m\u001b[43mtax\u001b[49m \u001b[38;5;241m/\u001b[39m \u001b[38;5;241m100\u001b[39m\n\u001b[1;32m      6\u001b[0m \u001b[38;5;28mprint\u001b[39m(\u001b[38;5;124mf\u001b[39m\u001b[38;5;124m'\u001b[39m\u001b[38;5;124mThe net price is $\u001b[39m\u001b[38;5;132;01m{\u001b[39;00mnet_price\u001b[38;5;132;01m}\u001b[39;00m\u001b[38;5;124m'\u001b[39m)\n",
      "\u001b[0;31mTypeError\u001b[0m: can't multiply sequence by non-int of type 'str'"
     ]
    }
   ],
   "source": [
    "price = input('Enter the price ($):')\n",
    "tax = input('Enter the tax rate (%):')\n",
    "\n",
    "net_price = price * tax / 100\n",
    "\n",
    "print(f'The net price is ${net_price}')"
   ]
  },
  {
   "cell_type": "markdown",
   "id": "3675109b",
   "metadata": {},
   "source": [
    "👎🏽 Since the input values are strings, you cannot apply the arithmetic operator (`+`) to them."
   ]
  },
  {
   "cell_type": "code",
   "execution_count": 72,
   "id": "7611b797",
   "metadata": {},
   "outputs": [
    {
     "name": "stdout",
     "output_type": "stream",
     "text": [
      "Enter the price ($):10\n",
      "Enter the tax rate (%):1\n",
      "The net price is $0.1\n"
     ]
    }
   ],
   "source": [
    "price = input('Enter the price ($):')\n",
    "tax = input('Enter the tax rate (%):')\n",
    "\n",
    "net_price = int(price) * int(tax) / 100\n",
    "\n",
    "print(f'The net price is ${net_price}')"
   ]
  },
  {
   "cell_type": "markdown",
   "id": "23348b51",
   "metadata": {},
   "source": [
    "### Other type conversion functions\n",
    "\n",
    "Besides the int(str) functions, Python support other type conversion functions. The following shows the most important ones for now:\n",
    "\n",
    "* `float(str)` – convert a string to a floating-point number.\n",
    "\n",
    "* `bool(val)` – convert a value to a boolean value, either True or False.\n",
    "\n",
    "* `str(val)` – return the string representation of a value.\n"
   ]
  },
  {
   "cell_type": "markdown",
   "id": "d1482d10",
   "metadata": {},
   "source": [
    "# Logical Operations"
   ]
  },
  {
   "cell_type": "markdown",
   "id": "f6f93456",
   "metadata": {},
   "source": [
    "Sometimes, you may want to check multiple conditions at the same time. To do so, you use logical operators.\n",
    "\n",
    "Python has three logical operators:\n",
    "\n",
    "* `and`\n",
    "* `or`\n",
    "* `not`"
   ]
  },
  {
   "cell_type": "code",
   "execution_count": 74,
   "id": "1a166fed",
   "metadata": {},
   "outputs": [
    {
     "data": {
      "text/plain": [
       "'b'"
      ]
     },
     "execution_count": 74,
     "metadata": {},
     "output_type": "execute_result"
    }
   ],
   "source": [
    "\"a\" and \"b\""
   ]
  },
  {
   "cell_type": "code",
   "execution_count": 76,
   "id": "15fd863e",
   "metadata": {},
   "outputs": [
    {
     "data": {
      "text/plain": [
       "'a'"
      ]
     },
     "execution_count": 76,
     "metadata": {},
     "output_type": "execute_result"
    }
   ],
   "source": [
    "\"a\" and \"a\""
   ]
  },
  {
   "cell_type": "code",
   "execution_count": 77,
   "id": "8273b590",
   "metadata": {},
   "outputs": [
    {
     "data": {
      "text/plain": [
       "True"
      ]
     },
     "execution_count": 77,
     "metadata": {},
     "output_type": "execute_result"
    }
   ],
   "source": [
    "price = 9.99\n",
    "\n",
    "price > 9 and price < 10"
   ]
  },
  {
   "cell_type": "code",
   "execution_count": 78,
   "id": "9f23e832",
   "metadata": {},
   "outputs": [
    {
     "data": {
      "text/plain": [
       "False"
      ]
     },
     "execution_count": 78,
     "metadata": {},
     "output_type": "execute_result"
    }
   ],
   "source": [
    "a = 10\n",
    "\n",
    "not a # it reverses the result of that condition"
   ]
  },
  {
   "cell_type": "code",
   "execution_count": 80,
   "id": "34b09f43",
   "metadata": {},
   "outputs": [
    {
     "data": {
      "text/plain": [
       "False"
      ]
     },
     "execution_count": 80,
     "metadata": {},
     "output_type": "execute_result"
    }
   ],
   "source": [
    "not (price > 9 and price < 10)"
   ]
  }
 ],
 "metadata": {
  "kernelspec": {
   "display_name": "Python 3 (ipykernel)",
   "language": "python",
   "name": "python3"
  },
  "language_info": {
   "codemirror_mode": {
    "name": "ipython",
    "version": 3
   },
   "file_extension": ".py",
   "mimetype": "text/x-python",
   "name": "python",
   "nbconvert_exporter": "python",
   "pygments_lexer": "ipython3",
   "version": "3.10.6"
  }
 },
 "nbformat": 4,
 "nbformat_minor": 5
}
