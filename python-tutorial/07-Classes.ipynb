{
 "cells": [
  {
   "cell_type": "markdown",
   "id": "2d1bc860",
   "metadata": {},
   "source": [
    "# Class\n",
    "\n",
    "Like function definitions begin with the def keyword in Python, class definitions begin with a class keyword.\n",
    "\n",
    "The first string inside the class is called docstring and has a brief description of the class. Although not mandatory, this is highly recommended.\n",
    "\n",
    "Here is a simple class definition."
   ]
  },
  {
   "cell_type": "code",
   "execution_count": 1,
   "id": "7dc78057",
   "metadata": {},
   "outputs": [],
   "source": [
    "class MyNewClass:\n",
    "    '''This is a docstring. I have created a new class'''\n",
    "    pass"
   ]
  },
  {
   "cell_type": "markdown",
   "id": "a84ed1ab",
   "metadata": {},
   "source": [
    "A class creates a new local namespace where all its attributes are defined. Attributes may be data or functions.\n",
    "\n",
    "There are also special attributes in it that begins with double underscores `__`. For example, `__doc__` gives us the docstring of that class."
   ]
  },
  {
   "cell_type": "code",
   "execution_count": 4,
   "id": "f754124a",
   "metadata": {},
   "outputs": [
    {
     "data": {
      "text/plain": [
       "'This is a docstring. I have created a new class'"
      ]
     },
     "execution_count": 4,
     "metadata": {},
     "output_type": "execute_result"
    }
   ],
   "source": [
    "MyNewClass().__doc__"
   ]
  },
  {
   "cell_type": "markdown",
   "id": "8ed0056d",
   "metadata": {},
   "source": [
    "As soon as we define a class, a new class object is created with the same name. This class object allows us to access the different attributes as well as to instantiate new objects of that class."
   ]
  },
  {
   "cell_type": "code",
   "execution_count": 6,
   "id": "6d22e793",
   "metadata": {},
   "outputs": [
    {
     "name": "stdout",
     "output_type": "stream",
     "text": [
      "10\n",
      "<function Person.greet at 0x108b0f0a0>\n",
      "This is a person class\n"
     ]
    }
   ],
   "source": [
    "class Person:\n",
    "    \"This is a person class\"\n",
    "    age = 10\n",
    "\n",
    "    def greet(self):\n",
    "        print('Hello')\n",
    "\n",
    "print(Person.age)\n",
    "print(Person.greet)\n",
    "print(Person.__doc__)"
   ]
  },
  {
   "cell_type": "code",
   "execution_count": 8,
   "id": "67ae80fa",
   "metadata": {},
   "outputs": [],
   "source": [
    "# we can call it with creating an object\n",
    "# create new object instance of the class\n",
    "harry = Person()"
   ]
  },
  {
   "cell_type": "markdown",
   "id": "fd8c8531",
   "metadata": {},
   "source": [
    "We can access the attributes of objects using the object name prefix. Attributes may be data or method. Methods of an object are corresponding functions of that class."
   ]
  },
  {
   "cell_type": "code",
   "execution_count": 9,
   "id": "64e2cc3c",
   "metadata": {},
   "outputs": [
    {
     "data": {
      "text/plain": [
       "'This is a person class'"
      ]
     },
     "execution_count": 9,
     "metadata": {},
     "output_type": "execute_result"
    }
   ],
   "source": [
    "harry.__doc__"
   ]
  },
  {
   "cell_type": "code",
   "execution_count": 11,
   "id": "c2de8ee8",
   "metadata": {},
   "outputs": [
    {
     "name": "stdout",
     "output_type": "stream",
     "text": [
      "Hello\n"
     ]
    }
   ],
   "source": [
    "harry.greet() # method object"
   ]
  },
  {
   "cell_type": "markdown",
   "id": "dc6f39f5",
   "metadata": {},
   "source": [
    "You may have noticed the `self` parameter in function definition inside the class but we called the method simply as `harry.greet()` without any arguments. It still worked.\n",
    "\n",
    "This is because, whenever an object calls its method, the object itself is passed as the first argument. So, `harry.greet()` translates into `Person.greet(harry)`.\n",
    "\n",
    "The first argument of the function in class must be the object itself. This is conventionally called `self`. It can be named otherwise but we highly recommend to follow the convention."
   ]
  },
  {
   "cell_type": "markdown",
   "id": "c2d83f37",
   "metadata": {},
   "source": [
    "# Constructors in Python\n",
    "\n",
    "Class functions that begin with double underscore `__` are called special functions as they have special meaning.\n",
    "\n",
    "Of one particular interest is the `__init__()` function. This special function gets called whenever a new object of that class is instantiated.\n",
    "\n",
    "This type of function is also called **constructors** in Object Oriented Programming (OOP). We normally use it to initialize all the variables."
   ]
  },
  {
   "cell_type": "code",
   "execution_count": 14,
   "id": "8f22298a",
   "metadata": {},
   "outputs": [
    {
     "name": "stdout",
     "output_type": "stream",
     "text": [
      "2+3j\n",
      "(5, 0)\n"
     ]
    }
   ],
   "source": [
    "class ComplexNumber:\n",
    "    def __init__(self, r=0, i=0):\n",
    "        self.real = r\n",
    "        self.imag = i\n",
    "\n",
    "    def get_data(self):\n",
    "        print(f'{self.real}+{self.imag}j')\n",
    "\n",
    "num1 = ComplexNumber(2, 3)\n",
    "\n",
    "num1.get_data()\n",
    "\n",
    "num2 = ComplexNumber(5)\n",
    "\n",
    "print((num2.real, num2.imag))"
   ]
  },
  {
   "cell_type": "code",
   "execution_count": null,
   "id": "11b5eb4a",
   "metadata": {},
   "outputs": [],
   "source": []
  }
 ],
 "metadata": {
  "kernelspec": {
   "display_name": "Python 3 (ipykernel)",
   "language": "python",
   "name": "python3"
  },
  "language_info": {
   "codemirror_mode": {
    "name": "ipython",
    "version": 3
   },
   "file_extension": ".py",
   "mimetype": "text/x-python",
   "name": "python",
   "nbconvert_exporter": "python",
   "pygments_lexer": "ipython3",
   "version": "3.10.6"
  }
 },
 "nbformat": 4,
 "nbformat_minor": 5
}
