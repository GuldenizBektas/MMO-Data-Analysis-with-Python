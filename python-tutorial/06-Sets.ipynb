{
 "cells": [
  {
   "cell_type": "markdown",
   "id": "01ebede5",
   "metadata": {},
   "source": [
    "# Sets\n",
    "\n",
    "A set is an unorders list of immutuble elements.\n",
    "\n",
    "* Elements in a set are unordered.\n",
    "\n",
    "* Elements in a set are unique. A set doesn’t allow duplicate elements.\n",
    "\n",
    "* Elements in a set cannot be changed. For example, they can be numbers, strings, and tuples, but cannot be lists or dictionaries."
   ]
  },
  {
   "cell_type": "code",
   "execution_count": 1,
   "id": "3d6e98ba",
   "metadata": {},
   "outputs": [],
   "source": [
    "skills = {\"programming\", \"python\", \"sql\"} # uses curly bracelets like dict"
   ]
  },
  {
   "cell_type": "code",
   "execution_count": 2,
   "id": "4c285ffc",
   "metadata": {},
   "outputs": [
    {
     "data": {
      "text/plain": [
       "set"
      ]
     },
     "execution_count": 2,
     "metadata": {},
     "output_type": "execute_result"
    }
   ],
   "source": [
    "type(skills) # but it's elements are not key, value pairs"
   ]
  },
  {
   "cell_type": "code",
   "execution_count": 3,
   "id": "134927eb",
   "metadata": {},
   "outputs": [],
   "source": [
    "# you cannot create an empty set like this\n",
    "empty_set = {}"
   ]
  },
  {
   "cell_type": "code",
   "execution_count": 4,
   "id": "b6c62325",
   "metadata": {},
   "outputs": [
    {
     "data": {
      "text/plain": [
       "dict"
      ]
     },
     "execution_count": 4,
     "metadata": {},
     "output_type": "execute_result"
    }
   ],
   "source": [
    "type(empty_set)"
   ]
  },
  {
   "cell_type": "code",
   "execution_count": 5,
   "id": "bac6823e",
   "metadata": {},
   "outputs": [],
   "source": [
    "empty_set = set() # create an an empty set"
   ]
  },
  {
   "cell_type": "code",
   "execution_count": 6,
   "id": "f935e1a8",
   "metadata": {},
   "outputs": [
    {
     "data": {
      "text/plain": [
       "set"
      ]
     },
     "execution_count": 6,
     "metadata": {},
     "output_type": "execute_result"
    }
   ],
   "source": [
    "type(empty_set)"
   ]
  },
  {
   "cell_type": "markdown",
   "id": "2eb1f35c",
   "metadata": {},
   "source": [
    "You can pass an iterable to the `set()` function to create a set. For example, you can pass a list, which is an iterable, to the `set()` function like this:"
   ]
  },
  {
   "cell_type": "code",
   "execution_count": 7,
   "id": "8298f2e1",
   "metadata": {},
   "outputs": [
    {
     "name": "stdout",
     "output_type": "stream",
     "text": [
      "{'Critical Thinking', 'Problem solving'}\n"
     ]
    }
   ],
   "source": [
    "skills = set(['Problem solving','Critical Thinking'])\n",
    "print(skills)"
   ]
  },
  {
   "cell_type": "markdown",
   "id": "01042331",
   "metadata": {},
   "source": [
    "If an iterable has duplicate elements, the `set()` function will remove them."
   ]
  },
  {
   "cell_type": "code",
   "execution_count": 8,
   "id": "71b7bee4",
   "metadata": {},
   "outputs": [
    {
     "name": "stdout",
     "output_type": "stream",
     "text": [
      "{'l', 'r', 'e', 't'}\n"
     ]
    }
   ],
   "source": [
    "characters = set('letter')\n",
    "print(characters)"
   ]
  },
  {
   "cell_type": "markdown",
   "id": "837c1522",
   "metadata": {},
   "source": [
    "As you can notice order of the elements cannot be preserved."
   ]
  },
  {
   "cell_type": "code",
   "execution_count": 9,
   "id": "89dec57b",
   "metadata": {},
   "outputs": [
    {
     "data": {
      "text/plain": [
       "4"
      ]
     },
     "execution_count": 9,
     "metadata": {},
     "output_type": "execute_result"
    }
   ],
   "source": [
    "# getting a size\n",
    "len(characters)"
   ]
  },
  {
   "cell_type": "markdown",
   "id": "169d1654",
   "metadata": {},
   "source": [
    "### Checking if an element is in a set\n",
    "\n",
    "`element in set`"
   ]
  },
  {
   "cell_type": "code",
   "execution_count": 15,
   "id": "f5e993b8",
   "metadata": {},
   "outputs": [
    {
     "name": "stdout",
     "output_type": "stream",
     "text": [
      "The set contains 1\n"
     ]
    }
   ],
   "source": [
    "ratings = {1, 2, 3, 4, 5}\n",
    "rating = 1\n",
    "\n",
    "if rating in ratings: # it returns True or False\n",
    "    print(f'The set contains {rating}')\n",
    "else:\n",
    "    print(f'The set does not contains {rating}')"
   ]
  },
  {
   "cell_type": "markdown",
   "id": "4745c3d3",
   "metadata": {},
   "source": [
    "### Adding elements to a set"
   ]
  },
  {
   "cell_type": "code",
   "execution_count": 16,
   "id": "9ac4feb4",
   "metadata": {},
   "outputs": [],
   "source": [
    "ratings.add(6)"
   ]
  },
  {
   "cell_type": "code",
   "execution_count": 17,
   "id": "5c324471",
   "metadata": {},
   "outputs": [
    {
     "data": {
      "text/plain": [
       "{1, 2, 3, 4, 5, 6}"
      ]
     },
     "execution_count": 17,
     "metadata": {},
     "output_type": "execute_result"
    }
   ],
   "source": [
    "ratings"
   ]
  },
  {
   "cell_type": "markdown",
   "id": "638a8ff7",
   "metadata": {},
   "source": [
    "### Remove an element from a set"
   ]
  },
  {
   "cell_type": "code",
   "execution_count": 19,
   "id": "50c078a2",
   "metadata": {},
   "outputs": [],
   "source": [
    "ratings.remove(6)"
   ]
  },
  {
   "cell_type": "code",
   "execution_count": 20,
   "id": "f1b10246",
   "metadata": {},
   "outputs": [
    {
     "data": {
      "text/plain": [
       "{1, 2, 3, 4, 5}"
      ]
     },
     "execution_count": 20,
     "metadata": {},
     "output_type": "execute_result"
    }
   ],
   "source": [
    "ratings"
   ]
  },
  {
   "cell_type": "code",
   "execution_count": null,
   "id": "50c7782e",
   "metadata": {},
   "outputs": [],
   "source": [
    "skills = set(['Problem solving','Critical Thinking'])"
   ]
  },
  {
   "cell_type": "code",
   "execution_count": 21,
   "id": "d41d5d85",
   "metadata": {},
   "outputs": [
    {
     "ename": "KeyError",
     "evalue": "'Java'",
     "output_type": "error",
     "traceback": [
      "\u001b[0;31m---------------------------------------------------------------------------\u001b[0m",
      "\u001b[0;31mKeyError\u001b[0m                                  Traceback (most recent call last)",
      "Cell \u001b[0;32mIn [21], line 2\u001b[0m\n\u001b[1;32m      1\u001b[0m \u001b[38;5;66;03m# remove an element that doesn’t exist in a set\u001b[39;00m\n\u001b[0;32m----> 2\u001b[0m \u001b[43mskills\u001b[49m\u001b[38;5;241;43m.\u001b[39;49m\u001b[43mremove\u001b[49m\u001b[43m(\u001b[49m\u001b[38;5;124;43m'\u001b[39;49m\u001b[38;5;124;43mJava\u001b[39;49m\u001b[38;5;124;43m'\u001b[39;49m\u001b[43m)\u001b[49m\n",
      "\u001b[0;31mKeyError\u001b[0m: 'Java'"
     ]
    }
   ],
   "source": [
    "# remove an element that doesn’t exist in a set\n",
    "skills.remove('Java')"
   ]
  },
  {
   "cell_type": "markdown",
   "id": "57c3d7ce",
   "metadata": {},
   "source": [
    "The set has the discard() method that allows you to remove an element. And it doesn’t raise an error if the element is not in the list."
   ]
  },
  {
   "cell_type": "code",
   "execution_count": 22,
   "id": "771ad519",
   "metadata": {},
   "outputs": [],
   "source": [
    "skills.discard('Java')"
   ]
  },
  {
   "cell_type": "markdown",
   "id": "2bbb64ad",
   "metadata": {},
   "source": [
    "To remove and return an element from a set, you use the `pop()` method. Since the elements in a set have no specific order, the pop() method removes an unspecified element from a set."
   ]
  },
  {
   "cell_type": "code",
   "execution_count": 23,
   "id": "2c8eb312",
   "metadata": {},
   "outputs": [
    {
     "ename": "TypeError",
     "evalue": "'set' object is not subscriptable",
     "output_type": "error",
     "traceback": [
      "\u001b[0;31m---------------------------------------------------------------------------\u001b[0m",
      "\u001b[0;31mTypeError\u001b[0m                                 Traceback (most recent call last)",
      "Cell \u001b[0;32mIn [23], line 1\u001b[0m\n\u001b[0;32m----> 1\u001b[0m \u001b[43mskills\u001b[49m\u001b[43m[\u001b[49m\u001b[38;5;241;43m0\u001b[39;49m\u001b[43m]\u001b[49m\n",
      "\u001b[0;31mTypeError\u001b[0m: 'set' object is not subscriptable"
     ]
    }
   ],
   "source": [
    "skills[0]"
   ]
  },
  {
   "cell_type": "code",
   "execution_count": 24,
   "id": "5111e1eb",
   "metadata": {},
   "outputs": [
    {
     "data": {
      "text/plain": [
       "'Critical Thinking'"
      ]
     },
     "execution_count": 24,
     "metadata": {},
     "output_type": "execute_result"
    }
   ],
   "source": [
    "skill = skills.pop()\n",
    "skill"
   ]
  },
  {
   "cell_type": "code",
   "execution_count": 25,
   "id": "033e0231",
   "metadata": {},
   "outputs": [
    {
     "data": {
      "text/plain": [
       "{'Problem solving'}"
      ]
     },
     "execution_count": 25,
     "metadata": {},
     "output_type": "execute_result"
    }
   ],
   "source": [
    "skills"
   ]
  },
  {
   "cell_type": "code",
   "execution_count": 26,
   "id": "99f57663",
   "metadata": {},
   "outputs": [
    {
     "data": {
      "text/plain": [
       "'Problem solving'"
      ]
     },
     "execution_count": 26,
     "metadata": {},
     "output_type": "execute_result"
    }
   ],
   "source": [
    "skills.pop()"
   ]
  },
  {
   "cell_type": "code",
   "execution_count": 27,
   "id": "62f029c2",
   "metadata": {},
   "outputs": [
    {
     "data": {
      "text/plain": [
       "set()"
      ]
     },
     "execution_count": 27,
     "metadata": {},
     "output_type": "execute_result"
    }
   ],
   "source": [
    "skills"
   ]
  },
  {
   "cell_type": "code",
   "execution_count": 28,
   "id": "4044d88d",
   "metadata": {},
   "outputs": [],
   "source": [
    "skills = set(['Problem solving','Critical Thinking'])"
   ]
  },
  {
   "cell_type": "markdown",
   "id": "dceed32d",
   "metadata": {},
   "source": [
    "### Removing all elements from a set"
   ]
  },
  {
   "cell_type": "code",
   "execution_count": 29,
   "id": "c600fc68",
   "metadata": {},
   "outputs": [],
   "source": [
    "skills.clear()"
   ]
  },
  {
   "cell_type": "code",
   "execution_count": 30,
   "id": "9a04cbdb",
   "metadata": {},
   "outputs": [
    {
     "data": {
      "text/plain": [
       "set()"
      ]
     },
     "execution_count": 30,
     "metadata": {},
     "output_type": "execute_result"
    }
   ],
   "source": [
    "skills"
   ]
  },
  {
   "cell_type": "markdown",
   "id": "3377197b",
   "metadata": {},
   "source": [
    "### Looping through set elements\n",
    "\n",
    "Sets are iterable. "
   ]
  },
  {
   "cell_type": "code",
   "execution_count": 31,
   "id": "38c5f7f6",
   "metadata": {},
   "outputs": [
    {
     "name": "stdout",
     "output_type": "stream",
     "text": [
      "Software design\n",
      "Problem solving\n",
      "Python programming\n"
     ]
    }
   ],
   "source": [
    "skills = {'Problem solving', 'Software design', 'Python programming'}\n",
    "\n",
    "for skill in skills:\n",
    "    print(skill)"
   ]
  },
  {
   "cell_type": "markdown",
   "id": "e9a72af5",
   "metadata": {},
   "source": [
    "To access the index of the current element inside the loop, you can use the built-in `enumerate()` function."
   ]
  },
  {
   "cell_type": "code",
   "execution_count": 32,
   "id": "307af923",
   "metadata": {},
   "outputs": [
    {
     "name": "stdout",
     "output_type": "stream",
     "text": [
      "0.Software design\n",
      "1.Problem solving\n",
      "2.Python programming\n"
     ]
    }
   ],
   "source": [
    "skills = {'Problem solving', 'Software design', 'Python programming'}\n",
    "\n",
    "for index, skill in enumerate(skills):\n",
    "    print(f\"{index}.{skill}\")"
   ]
  },
  {
   "cell_type": "markdown",
   "id": "937a6bc7",
   "metadata": {},
   "source": [
    "You can use built-in functions with sets. Like `map()`."
   ]
  },
  {
   "cell_type": "code",
   "execution_count": 35,
   "id": "1f45be88",
   "metadata": {},
   "outputs": [
    {
     "name": "stdout",
     "output_type": "stream",
     "text": [
      "{'django', 'pandas', 'numpy'}\n"
     ]
    }
   ],
   "source": [
    "tags = {'Django', 'Pandas', 'Numpy'}\n",
    "lowercase_tags = set(map(lambda tag: tag.lower(), tags))\n",
    "\n",
    "print(lowercase_tags)"
   ]
  },
  {
   "cell_type": "markdown",
   "id": "efd1d1c5",
   "metadata": {},
   "source": [
    "...or you can use set comprehensions.\n",
    "\n",
    "`{expression for element in set if condition}`\n",
    "\n",
    "The set comprehension allows you to create a new set based on an existing set.\n",
    "\n",
    "> Note that the set comprehension returns a new set, it doesn’t modify the original set.\n",
    "\n"
   ]
  },
  {
   "cell_type": "code",
   "execution_count": 36,
   "id": "f34057d1",
   "metadata": {},
   "outputs": [
    {
     "name": "stdout",
     "output_type": "stream",
     "text": [
      "{'django', 'pandas', 'numpy'}\n"
     ]
    }
   ],
   "source": [
    "tags = {'Django', 'Pandas', 'Numpy'}\n",
    "lowercase_tags = {tag.lower() for tag in tags}\n",
    "\n",
    "print(lowercase_tags)"
   ]
  },
  {
   "cell_type": "code",
   "execution_count": 37,
   "id": "d33ed9d6",
   "metadata": {},
   "outputs": [
    {
     "data": {
      "text/plain": [
       "set"
      ]
     },
     "execution_count": 37,
     "metadata": {},
     "output_type": "execute_result"
    }
   ],
   "source": [
    "type(lowercase_tags)"
   ]
  },
  {
   "cell_type": "code",
   "execution_count": 38,
   "id": "3199605e",
   "metadata": {},
   "outputs": [
    {
     "name": "stdout",
     "output_type": "stream",
     "text": [
      "{'django', 'pandas'}\n"
     ]
    }
   ],
   "source": [
    "tags = {'Django', 'Pandas', 'Numpy'}\n",
    "new_tags = {tag.lower() for tag in tags if tag != 'Numpy'}\n",
    "\n",
    "print(new_tags)"
   ]
  }
 ],
 "metadata": {
  "kernelspec": {
   "display_name": "Python 3 (ipykernel)",
   "language": "python",
   "name": "python3"
  },
  "language_info": {
   "codemirror_mode": {
    "name": "ipython",
    "version": 3
   },
   "file_extension": ".py",
   "mimetype": "text/x-python",
   "name": "python",
   "nbconvert_exporter": "python",
   "pygments_lexer": "ipython3",
   "version": "3.10.6"
  }
 },
 "nbformat": 4,
 "nbformat_minor": 5
}
