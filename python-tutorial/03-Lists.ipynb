{
 "cells": [
  {
   "cell_type": "markdown",
   "id": "0f0c6251",
   "metadata": {},
   "source": [
    "# Lists *****\n",
    "\n",
    "A list is an ordered collections of items.\n",
    "\n",
    "Python uses the square brackets `[]` to indicate a list."
   ]
  },
  {
   "cell_type": "code",
   "execution_count": 1,
   "id": "824337a5",
   "metadata": {},
   "outputs": [],
   "source": [
    "# create an empty list\n",
    "empty_list = []"
   ]
  },
  {
   "cell_type": "code",
   "execution_count": 2,
   "id": "5c2d0918",
   "metadata": {},
   "outputs": [
    {
     "data": {
      "text/plain": [
       "[]"
      ]
     },
     "execution_count": 2,
     "metadata": {},
     "output_type": "execute_result"
    }
   ],
   "source": [
    "empty_list"
   ]
  },
  {
   "cell_type": "code",
   "execution_count": 3,
   "id": "9db4c722",
   "metadata": {},
   "outputs": [],
   "source": [
    "# A list can contains one or mode items\n",
    "todo_list = [\"mmo\", \"python\", \"course\"]"
   ]
  },
  {
   "cell_type": "code",
   "execution_count": 4,
   "id": "e5580fcc",
   "metadata": {},
   "outputs": [
    {
     "data": {
      "text/plain": [
       "['mmo', 'python', 'course']"
      ]
     },
     "execution_count": 4,
     "metadata": {},
     "output_type": "execute_result"
    }
   ],
   "source": [
    "todo_list"
   ]
  },
  {
   "cell_type": "code",
   "execution_count": 5,
   "id": "83b4f11a",
   "metadata": {},
   "outputs": [
    {
     "data": {
      "text/plain": [
       "list"
      ]
     },
     "execution_count": 5,
     "metadata": {},
     "output_type": "execute_result"
    }
   ],
   "source": [
    "type(todo_list)"
   ]
  },
  {
   "cell_type": "code",
   "execution_count": 6,
   "id": "a2fd80f3",
   "metadata": {},
   "outputs": [
    {
     "data": {
      "text/plain": [
       "3"
      ]
     },
     "execution_count": 6,
     "metadata": {},
     "output_type": "execute_result"
    }
   ],
   "source": [
    "len(todo_list)"
   ]
  },
  {
   "cell_type": "markdown",
   "id": "13418695",
   "metadata": {},
   "source": [
    "Since a list often contains many items, it’s a good practice to name it using plural nouns e.g., `numbers`, `colors`, and `shopping_carts`. A list can contain any type of item, like float, int, string."
   ]
  },
  {
   "cell_type": "code",
   "execution_count": 7,
   "id": "317bf8c9",
   "metadata": {},
   "outputs": [],
   "source": [
    "# a list can contains other list\n",
    "coordinates = [[0,0], [100,100], [200,200]]"
   ]
  },
  {
   "cell_type": "code",
   "execution_count": 8,
   "id": "577a0671",
   "metadata": {},
   "outputs": [
    {
     "data": {
      "text/plain": [
       "[[0, 0], [100, 100], [200, 200]]"
      ]
     },
     "execution_count": 8,
     "metadata": {},
     "output_type": "execute_result"
    }
   ],
   "source": [
    "coordinates"
   ]
  },
  {
   "cell_type": "markdown",
   "id": "46d0497c",
   "metadata": {},
   "source": [
    "### Accessing elements in a list"
   ]
  },
  {
   "cell_type": "code",
   "execution_count": 9,
   "id": "2a480403",
   "metadata": {},
   "outputs": [
    {
     "data": {
      "text/plain": [
       "[0, 0]"
      ]
     },
     "execution_count": 9,
     "metadata": {},
     "output_type": "execute_result"
    }
   ],
   "source": [
    "coordinates[0] # since [0,0] is one element of the bigger list"
   ]
  },
  {
   "cell_type": "code",
   "execution_count": 11,
   "id": "a228f5f7",
   "metadata": {},
   "outputs": [
    {
     "data": {
      "text/plain": [
       "[200, 200]"
      ]
     },
     "execution_count": 11,
     "metadata": {},
     "output_type": "execute_result"
    }
   ],
   "source": [
    "coordinates[2]"
   ]
  },
  {
   "cell_type": "markdown",
   "id": "e436240a",
   "metadata": {},
   "source": [
    "The `list[-1]` returns the last element. The `list[-2]` returns the second last element, and so on."
   ]
  },
  {
   "cell_type": "code",
   "execution_count": 10,
   "id": "b0adc32a",
   "metadata": {},
   "outputs": [
    {
     "data": {
      "text/plain": [
       "[200, 200]"
      ]
     },
     "execution_count": 10,
     "metadata": {},
     "output_type": "execute_result"
    }
   ],
   "source": [
    "coordinates[-1]"
   ]
  },
  {
   "cell_type": "code",
   "execution_count": 13,
   "id": "c5724343",
   "metadata": {},
   "outputs": [
    {
     "data": {
      "text/plain": [
       "[0, 0]"
      ]
     },
     "execution_count": 13,
     "metadata": {},
     "output_type": "execute_result"
    }
   ],
   "source": [
    "coordinates[-3]"
   ]
  },
  {
   "cell_type": "code",
   "execution_count": 14,
   "id": "c34ce7f7",
   "metadata": {},
   "outputs": [
    {
     "data": {
      "text/plain": [
       "100"
      ]
     },
     "execution_count": 14,
     "metadata": {},
     "output_type": "execute_result"
    }
   ],
   "source": [
    "# access elements of list in list\n",
    "coordinates[1][0] # büyükten küçüğe doğru içeriye gidiyoruz"
   ]
  },
  {
   "cell_type": "markdown",
   "id": "29e9508d",
   "metadata": {},
   "source": [
    "### Modifying elements in a list"
   ]
  },
  {
   "cell_type": "markdown",
   "id": "6c08601d",
   "metadata": {},
   "source": [
    "To change an element, you assign a new value to it using this syntax:\n",
    "\n",
    "`list[index] = new_value`"
   ]
  },
  {
   "cell_type": "code",
   "execution_count": 15,
   "id": "ec73cc40",
   "metadata": {},
   "outputs": [
    {
     "data": {
      "text/plain": [
       "[0, 1, 2, 3, 4, 5]"
      ]
     },
     "execution_count": 15,
     "metadata": {},
     "output_type": "execute_result"
    }
   ],
   "source": [
    "numbers = [0, 1, 2, 3, 4, 5]\n",
    "\n",
    "#numbers[0] = 10\n",
    "\n",
    "numbers"
   ]
  },
  {
   "cell_type": "code",
   "execution_count": 16,
   "id": "165213b8",
   "metadata": {},
   "outputs": [
    {
     "data": {
      "text/plain": [
       "0"
      ]
     },
     "execution_count": 16,
     "metadata": {},
     "output_type": "execute_result"
    }
   ],
   "source": [
    "numbers[0]"
   ]
  },
  {
   "cell_type": "code",
   "execution_count": 17,
   "id": "7c34cd01",
   "metadata": {},
   "outputs": [],
   "source": [
    "numbers[0] = 10"
   ]
  },
  {
   "cell_type": "code",
   "execution_count": 18,
   "id": "28a31a97",
   "metadata": {},
   "outputs": [
    {
     "data": {
      "text/plain": [
       "[10, 1, 2, 3, 4, 5]"
      ]
     },
     "execution_count": 18,
     "metadata": {},
     "output_type": "execute_result"
    }
   ],
   "source": [
    "numbers"
   ]
  },
  {
   "cell_type": "code",
   "execution_count": 19,
   "id": "6df1e19d",
   "metadata": {},
   "outputs": [],
   "source": [
    "# divides the third element by 2\n",
    "numbers[2] /= 2 # numbers[2] = numbers[2] / 2"
   ]
  },
  {
   "cell_type": "code",
   "execution_count": 20,
   "id": "5b65e3b4",
   "metadata": {},
   "outputs": [
    {
     "data": {
      "text/plain": [
       "[10, 1, 1.0, 3, 4, 5]"
      ]
     },
     "execution_count": 20,
     "metadata": {},
     "output_type": "execute_result"
    }
   ],
   "source": [
    "numbers"
   ]
  },
  {
   "cell_type": "markdown",
   "id": "cb0bbc45",
   "metadata": {},
   "source": [
    "### Adding elements to the list *****"
   ]
  },
  {
   "cell_type": "markdown",
   "id": "f048b014",
   "metadata": {},
   "source": [
    "The `append()` method appends an element to the end of a list."
   ]
  },
  {
   "cell_type": "code",
   "execution_count": 21,
   "id": "4ddda119",
   "metadata": {},
   "outputs": [
    {
     "data": {
      "text/plain": [
       "[10, 1, 1.0, 3, 4, 5]"
      ]
     },
     "execution_count": 21,
     "metadata": {},
     "output_type": "execute_result"
    }
   ],
   "source": [
    "numbers"
   ]
  },
  {
   "cell_type": "code",
   "execution_count": 22,
   "id": "2d850d6e",
   "metadata": {},
   "outputs": [
    {
     "data": {
      "text/plain": [
       "[10, 1, 1.0, 3, 4, 5, 100]"
      ]
     },
     "execution_count": 22,
     "metadata": {},
     "output_type": "execute_result"
    }
   ],
   "source": [
    "numbers.append(100)\n",
    "numbers"
   ]
  },
  {
   "cell_type": "markdown",
   "id": "63b62994",
   "metadata": {},
   "source": [
    "The `insert()` method adds a new element at any position in the list."
   ]
  },
  {
   "cell_type": "code",
   "execution_count": 23,
   "id": "46f75d06",
   "metadata": {},
   "outputs": [
    {
     "data": {
      "text/plain": [
       "[10, 1, 100, 1.0, 3, 4, 5, 100]"
      ]
     },
     "execution_count": 23,
     "metadata": {},
     "output_type": "execute_result"
    }
   ],
   "source": [
    "numbers.insert(2, 100) # not deleting the existing one, just adding new one\n",
    "numbers"
   ]
  },
  {
   "cell_type": "markdown",
   "id": "c4af8984",
   "metadata": {},
   "source": [
    "### Removing elements from a list"
   ]
  },
  {
   "cell_type": "markdown",
   "id": "1d41bfd4",
   "metadata": {},
   "source": [
    "The `del()` statement allows you to remove an element from a list by specifying the position of the element."
   ]
  },
  {
   "cell_type": "code",
   "execution_count": 24,
   "id": "cd2b3f66",
   "metadata": {},
   "outputs": [],
   "source": [
    "del numbers[2]"
   ]
  },
  {
   "cell_type": "code",
   "execution_count": 25,
   "id": "b8af8ca6",
   "metadata": {},
   "outputs": [
    {
     "data": {
      "text/plain": [
       "[10, 1, 1.0, 3, 4, 5, 100]"
      ]
     },
     "execution_count": 25,
     "metadata": {},
     "output_type": "execute_result"
    }
   ],
   "source": [
    "numbers"
   ]
  },
  {
   "cell_type": "markdown",
   "id": "1d748dcc",
   "metadata": {},
   "source": [
    "The `pop()` method removes the last element from a list and returns that element."
   ]
  },
  {
   "cell_type": "code",
   "execution_count": 26,
   "id": "8fd9c4a7",
   "metadata": {},
   "outputs": [
    {
     "data": {
      "text/plain": [
       "100"
      ]
     },
     "execution_count": 26,
     "metadata": {},
     "output_type": "execute_result"
    }
   ],
   "source": [
    "numbers.pop()"
   ]
  },
  {
   "cell_type": "code",
   "execution_count": 27,
   "id": "7ff00294",
   "metadata": {},
   "outputs": [
    {
     "data": {
      "text/plain": [
       "[10, 1, 1.0, 3, 4, 5]"
      ]
     },
     "execution_count": 27,
     "metadata": {},
     "output_type": "execute_result"
    }
   ],
   "source": [
    "numbers"
   ]
  },
  {
   "cell_type": "code",
   "execution_count": 28,
   "id": "2a92191d",
   "metadata": {},
   "outputs": [
    {
     "data": {
      "text/plain": [
       "10"
      ]
     },
     "execution_count": 28,
     "metadata": {},
     "output_type": "execute_result"
    }
   ],
   "source": [
    "numbers.pop(0) # no []"
   ]
  },
  {
   "cell_type": "code",
   "execution_count": 29,
   "id": "ab41c7de",
   "metadata": {},
   "outputs": [
    {
     "data": {
      "text/plain": [
       "[1, 1.0, 3, 4, 5]"
      ]
     },
     "execution_count": 29,
     "metadata": {},
     "output_type": "execute_result"
    }
   ],
   "source": [
    "numbers"
   ]
  },
  {
   "cell_type": "markdown",
   "id": "c14e6282",
   "metadata": {},
   "source": [
    "Typically, you use the `pop()` method when you want to remove an element from a list and still want to access the value of that element.\n",
    "\n",
    "To remove an element by value, you use the `remove()` method."
   ]
  },
  {
   "cell_type": "code",
   "execution_count": 30,
   "id": "c9126f36",
   "metadata": {},
   "outputs": [],
   "source": [
    "numbers.remove(1.0)"
   ]
  },
  {
   "cell_type": "code",
   "execution_count": 32,
   "id": "8567a127",
   "metadata": {},
   "outputs": [],
   "source": [
    "numbers.remove(1.0)"
   ]
  },
  {
   "cell_type": "code",
   "execution_count": 33,
   "id": "f746c934",
   "metadata": {},
   "outputs": [
    {
     "data": {
      "text/plain": [
       "[3, 4, 5]"
      ]
     },
     "execution_count": 33,
     "metadata": {},
     "output_type": "execute_result"
    }
   ],
   "source": [
    "numbers"
   ]
  },
  {
   "cell_type": "code",
   "execution_count": 34,
   "id": "65192048",
   "metadata": {},
   "outputs": [
    {
     "data": {
      "text/plain": [
       "3"
      ]
     },
     "execution_count": 34,
     "metadata": {},
     "output_type": "execute_result"
    }
   ],
   "source": [
    "len(numbers)"
   ]
  },
  {
   "cell_type": "markdown",
   "id": "3e01ba01",
   "metadata": {},
   "source": [
    "# Tuples\n",
    "\n",
    "A tuple is like a list except that it uses paranthesis `()`."
   ]
  },
  {
   "cell_type": "code",
   "execution_count": 35,
   "id": "bc4b0dbb",
   "metadata": {},
   "outputs": [
    {
     "data": {
      "text/plain": [
       "tuple"
      ]
     },
     "execution_count": 35,
     "metadata": {},
     "output_type": "execute_result"
    }
   ],
   "source": [
    "empty_tuple = ()\n",
    "type(empty_tuple)"
   ]
  },
  {
   "cell_type": "code",
   "execution_count": 36,
   "id": "3d2d5086",
   "metadata": {},
   "outputs": [],
   "source": [
    "rgb = (\"red\", \"green\", \"blue\")"
   ]
  },
  {
   "cell_type": "code",
   "execution_count": 37,
   "id": "6644d12d",
   "metadata": {},
   "outputs": [
    {
     "data": {
      "text/plain": [
       "'red'"
      ]
     },
     "execution_count": 37,
     "metadata": {},
     "output_type": "execute_result"
    }
   ],
   "source": [
    "# you can access an individual element by its index\n",
    "rgb[0]"
   ]
  },
  {
   "cell_type": "markdown",
   "id": "5a6c2802",
   "metadata": {},
   "source": [
    "Since a tuple is immutable, you cannot change its elements. The following example attempts to change the first element of the rgb tuple to `yellow`."
   ]
  },
  {
   "cell_type": "code",
   "execution_count": 38,
   "id": "6d2db71a",
   "metadata": {},
   "outputs": [
    {
     "ename": "TypeError",
     "evalue": "'tuple' object does not support item assignment",
     "output_type": "error",
     "traceback": [
      "\u001b[0;31m---------------------------------------------------------------------------\u001b[0m",
      "\u001b[0;31mTypeError\u001b[0m                                 Traceback (most recent call last)",
      "Cell \u001b[0;32mIn [38], line 1\u001b[0m\n\u001b[0;32m----> 1\u001b[0m \u001b[43mrgb\u001b[49m\u001b[43m[\u001b[49m\u001b[38;5;241;43m0\u001b[39;49m\u001b[43m]\u001b[49m \u001b[38;5;241m=\u001b[39m \u001b[38;5;124m\"\u001b[39m\u001b[38;5;124myellow\u001b[39m\u001b[38;5;124m\"\u001b[39m\n",
      "\u001b[0;31mTypeError\u001b[0m: 'tuple' object does not support item assignment"
     ]
    }
   ],
   "source": [
    "rgb[0] = \"yellow\""
   ]
  },
  {
   "cell_type": "code",
   "execution_count": 41,
   "id": "88b03ee8",
   "metadata": {},
   "outputs": [],
   "source": [
    "numbers = (\"deniz\")"
   ]
  },
  {
   "cell_type": "code",
   "execution_count": 42,
   "id": "ccfb30a1",
   "metadata": {},
   "outputs": [
    {
     "data": {
      "text/plain": [
       "str"
      ]
     },
     "execution_count": 42,
     "metadata": {},
     "output_type": "execute_result"
    }
   ],
   "source": [
    "type(numbers)"
   ]
  },
  {
   "cell_type": "markdown",
   "id": "f4f7bda7",
   "metadata": {},
   "source": [
    "To define a tuple with one element, you need to include a trailing comma after the first element."
   ]
  },
  {
   "cell_type": "code",
   "execution_count": 43,
   "id": "f04019f1",
   "metadata": {},
   "outputs": [],
   "source": [
    "numbers = (2,)"
   ]
  },
  {
   "cell_type": "code",
   "execution_count": 44,
   "id": "edf16207",
   "metadata": {},
   "outputs": [
    {
     "data": {
      "text/plain": [
       "tuple"
      ]
     },
     "execution_count": 44,
     "metadata": {},
     "output_type": "execute_result"
    }
   ],
   "source": [
    "type(numbers)"
   ]
  },
  {
   "cell_type": "code",
   "execution_count": 45,
   "id": "1dbe5a7c",
   "metadata": {},
   "outputs": [
    {
     "data": {
      "text/plain": [
       "1"
      ]
     },
     "execution_count": 45,
     "metadata": {},
     "output_type": "execute_result"
    }
   ],
   "source": [
    "len(numbers)"
   ]
  },
  {
   "cell_type": "markdown",
   "id": "aae7ebed",
   "metadata": {},
   "source": [
    "# sort() method *****\n",
    "\n",
    "It sorts a list.\n",
    "\n",
    "By default, the `sort()` method sorts the elements of a list using the less-than operator (<). In other words, it places the lower elements before the higher ones.\n",
    "\n",
    "To sort elements from higher to lower, you pass the `reverse=True` argument to the `sort()` method.\n",
    "\n",
    "The following example uses the `sort()` method to sort the elements in the guests list alphabetically:"
   ]
  },
  {
   "cell_type": "code",
   "execution_count": 46,
   "id": "bbe7ae37",
   "metadata": {},
   "outputs": [
    {
     "name": "stdout",
     "output_type": "stream",
     "text": [
      "['James', 'Jennifer', 'John', 'Mary', 'Patricia', 'Robert']\n"
     ]
    }
   ],
   "source": [
    "guests = ['James', 'Mary', 'John', 'Patricia', 'Robert', 'Jennifer']\n",
    "guests.sort()\n",
    "\n",
    "print(guests)"
   ]
  },
  {
   "cell_type": "code",
   "execution_count": 47,
   "id": "321c29ad",
   "metadata": {},
   "outputs": [
    {
     "name": "stdout",
     "output_type": "stream",
     "text": [
      "['Robert', 'Patricia', 'Mary', 'John', 'Jennifer', 'James']\n"
     ]
    }
   ],
   "source": [
    "guests = ['James', 'Mary', 'John', 'Patricia', 'Robert', 'Jennifer']\n",
    "guests.sort(reverse=True)\n",
    "\n",
    "print(guests)"
   ]
  },
  {
   "cell_type": "code",
   "execution_count": 48,
   "id": "80d5c3d1",
   "metadata": {},
   "outputs": [
    {
     "name": "stdout",
     "output_type": "stream",
     "text": [
      "[4, 5, 6, 7, 8, 9]\n"
     ]
    }
   ],
   "source": [
    "scores = [5, 7, 4, 6, 9, 8]\n",
    "scores.sort()\n",
    "\n",
    "print(scores)"
   ]
  },
  {
   "cell_type": "code",
   "execution_count": 49,
   "id": "a15d183a",
   "metadata": {},
   "outputs": [
    {
     "name": "stdout",
     "output_type": "stream",
     "text": [
      "[9, 8, 7, 6, 5, 4]\n"
     ]
    }
   ],
   "source": [
    "scores = [5, 7, 4, 6, 9, 8]\n",
    "scores.sort(reverse=True)\n",
    "\n",
    "print(scores)"
   ]
  },
  {
   "cell_type": "code",
   "execution_count": 50,
   "id": "a24ce018",
   "metadata": {},
   "outputs": [],
   "source": [
    "companies = [('Google', 2019, 134.81),\n",
    "             ('Apple', 2019, 260.2),\n",
    "             ('Facebook', 2019, 70.7)]"
   ]
  },
  {
   "cell_type": "code",
   "execution_count": 51,
   "id": "40e30803",
   "metadata": {},
   "outputs": [],
   "source": [
    "companies.sort()"
   ]
  },
  {
   "cell_type": "markdown",
   "id": "bb328b0c",
   "metadata": {},
   "source": [
    "You want to sort the companies list by revenue from highest to lowest.\n",
    "\n",
    "First, specify a sort key and pass it to the `sort()` method. To define a sort key, you create a function that accepts a tuple and returns the element that you want to sort by.\n",
    "\n",
    "Second, pass the sort_key function to the `sort()` method."
   ]
  },
  {
   "cell_type": "code",
   "execution_count": 52,
   "id": "17f6051b",
   "metadata": {},
   "outputs": [],
   "source": [
    "def sort_key(company):\n",
    "    return company[2]"
   ]
  },
  {
   "cell_type": "code",
   "execution_count": 53,
   "id": "9181a58f",
   "metadata": {},
   "outputs": [],
   "source": [
    "companies.sort(key=sort_key, reverse=True)"
   ]
  },
  {
   "cell_type": "code",
   "execution_count": 54,
   "id": "6bbbb92f",
   "metadata": {},
   "outputs": [
    {
     "data": {
      "text/plain": [
       "[('Apple', 2019, 260.2), ('Google', 2019, 134.81), ('Facebook', 2019, 70.7)]"
      ]
     },
     "execution_count": 54,
     "metadata": {},
     "output_type": "execute_result"
    }
   ],
   "source": [
    "companies"
   ]
  },
  {
   "cell_type": "markdown",
   "id": "5b8591fb",
   "metadata": {},
   "source": [
    "Let's do it with a `lambda function`."
   ]
  },
  {
   "cell_type": "code",
   "execution_count": 55,
   "id": "c02ad058",
   "metadata": {},
   "outputs": [],
   "source": [
    "companies = [('Google', 2019, 134.81),\n",
    "             ('Apple', 2019, 260.2),\n",
    "             ('Facebook', 2019, 70.7)]\n",
    "\n",
    "\n",
    "companies.sort(key=lambda company: company[2], reverse=True)"
   ]
  },
  {
   "cell_type": "code",
   "execution_count": 56,
   "id": "3073115d",
   "metadata": {},
   "outputs": [
    {
     "data": {
      "text/plain": [
       "[('Apple', 2019, 260.2), ('Google', 2019, 134.81), ('Facebook', 2019, 70.7)]"
      ]
     },
     "execution_count": 56,
     "metadata": {},
     "output_type": "execute_result"
    }
   ],
   "source": [
    "companies"
   ]
  },
  {
   "cell_type": "markdown",
   "id": "aa85dc1d",
   "metadata": {},
   "source": [
    "# List slice notation"
   ]
  },
  {
   "cell_type": "markdown",
   "id": "b11d44f0",
   "metadata": {},
   "source": [
    "Lists support the slice notation that allows you to get a sublist from a list.\n",
    "\n",
    "`sub_list = list[begin: end: step]`\n",
    "\n",
    "The begin index defaults to zero. The `end` index defaults to the length of the list. And the `step` index defaults to 1.\n",
    "\n",
    "The slice will start from the `begin` up to the `end` in the step of `step`.\n",
    "\n",
    "The `begin`, `end`, and `step` can be positive or negative. Positive values slice the list from the first element to the last element while negative values slice the list from the last element to the first element.\n",
    "\n",
    "In addition to extracting a sublist, you can use the list slice to change the list such as updating, resizing, and deleting a part of the list."
   ]
  },
  {
   "cell_type": "code",
   "execution_count": 57,
   "id": "284b30b2",
   "metadata": {},
   "outputs": [],
   "source": [
    "colors = ['red', 'orange', 'yellow', 'green', 'blue', 'indigo', 'violet']"
   ]
  },
  {
   "cell_type": "code",
   "execution_count": 58,
   "id": "e72b836d",
   "metadata": {},
   "outputs": [
    {
     "name": "stdout",
     "output_type": "stream",
     "text": [
      "['orange', 'yellow', 'green']\n"
     ]
    }
   ],
   "source": [
    "colors = ['red', 'orange', 'yellow', 'green', 'blue', 'indigo', 'violet']\n",
    "sub_colors = colors[1:4]\n",
    "\n",
    "print(sub_colors)"
   ]
  },
  {
   "cell_type": "code",
   "execution_count": 59,
   "id": "ee1520b6",
   "metadata": {},
   "outputs": [
    {
     "data": {
      "text/plain": [
       "['red', 'orange', 'yellow']"
      ]
     },
     "execution_count": 59,
     "metadata": {},
     "output_type": "execute_result"
    }
   ],
   "source": [
    "colors[:3] # first three element 0, 1, 2"
   ]
  },
  {
   "cell_type": "code",
   "execution_count": 60,
   "id": "98c4a88f",
   "metadata": {},
   "outputs": [
    {
     "data": {
      "text/plain": [
       "['blue', 'indigo', 'violet']"
      ]
     },
     "execution_count": 60,
     "metadata": {},
     "output_type": "execute_result"
    }
   ],
   "source": [
    "colors[-3:] # last three elements"
   ]
  },
  {
   "cell_type": "code",
   "execution_count": 61,
   "id": "93819802",
   "metadata": {},
   "outputs": [
    {
     "data": {
      "text/plain": [
       "['red', 'yellow', 'blue', 'violet']"
      ]
     },
     "execution_count": 61,
     "metadata": {},
     "output_type": "execute_result"
    }
   ],
   "source": [
    "colors[::2] # return a sublist that includes every 2nd element of the colors list\n"
   ]
  },
  {
   "cell_type": "code",
   "execution_count": 62,
   "id": "ec2d976e",
   "metadata": {},
   "outputs": [
    {
     "data": {
      "text/plain": [
       "['violet', 'indigo', 'blue', 'green', 'yellow', 'orange', 'red']"
      ]
     },
     "execution_count": 62,
     "metadata": {},
     "output_type": "execute_result"
    }
   ],
   "source": [
    "colors[::-1] # reverse a list"
   ]
  },
  {
   "cell_type": "markdown",
   "id": "aef29152",
   "metadata": {},
   "source": [
    "# Iterate over a list with index *****"
   ]
  },
  {
   "cell_type": "markdown",
   "id": "610466be",
   "metadata": {},
   "source": [
    "Sometimes, you may want to access indexes of elements inside the loop. In these cases, you can use the `enumerate()` function.\n",
    "\n",
    "The `enumerate()` function returns a tuple that contains the current index and element of the list.\n"
   ]
  },
  {
   "cell_type": "code",
   "execution_count": 63,
   "id": "c7219400",
   "metadata": {},
   "outputs": [
    {
     "name": "stdout",
     "output_type": "stream",
     "text": [
      "(0, 'New York')\n",
      "(1, 'Beijing')\n",
      "(2, 'Cairo')\n",
      "(3, 'Mumbai')\n",
      "(4, 'Mexico')\n"
     ]
    }
   ],
   "source": [
    "cities = ['New York', 'Beijing', 'Cairo', 'Mumbai', 'Mexico']\n",
    "\n",
    "for item in enumerate(cities):\n",
    "    print(item)"
   ]
  },
  {
   "cell_type": "code",
   "execution_count": 64,
   "id": "e05c5070",
   "metadata": {},
   "outputs": [
    {
     "name": "stdout",
     "output_type": "stream",
     "text": [
      "0: New York\n",
      "1: Beijing\n",
      "2: Cairo\n",
      "3: Mumbai\n",
      "4: Mexico\n"
     ]
    }
   ],
   "source": [
    "cities = ['New York', 'Beijing', 'Cairo', 'Mumbai', 'Mexico']\n",
    "\n",
    "for index, city in enumerate(cities):\n",
    "    print(f\"{index}: {city}\")"
   ]
  },
  {
   "cell_type": "markdown",
   "id": "963e77cb",
   "metadata": {},
   "source": [
    "The `enumerate()` function allows you to specify the starting index which defaults to zero."
   ]
  },
  {
   "cell_type": "code",
   "execution_count": 65,
   "id": "873fd487",
   "metadata": {},
   "outputs": [
    {
     "name": "stdout",
     "output_type": "stream",
     "text": [
      "1: New York\n",
      "2: Beijing\n",
      "3: Cairo\n",
      "4: Mumbai\n",
      "5: Mexico\n"
     ]
    }
   ],
   "source": [
    "cities = ['New York', 'Beijing', 'Cairo', 'Mumbai', 'Mexico']\n",
    "\n",
    "for index, city in enumerate(cities,1):\n",
    "    print(f\"{index}: {city}\")"
   ]
  },
  {
   "cell_type": "markdown",
   "id": "61ff6609",
   "metadata": {},
   "source": [
    "# How to find the index of an element in a list"
   ]
  },
  {
   "cell_type": "code",
   "execution_count": 66,
   "id": "6ce0b74b",
   "metadata": {},
   "outputs": [
    {
     "name": "stdout",
     "output_type": "stream",
     "text": [
      "3\n"
     ]
    }
   ],
   "source": [
    "cities = ['New York', 'Beijing', 'Cairo', 'Mumbai', 'Mexico']\n",
    "\n",
    "result = cities.index('Mumbai')\n",
    "print(result)\n"
   ]
  },
  {
   "cell_type": "code",
   "execution_count": 67,
   "id": "96af0dc3",
   "metadata": {},
   "outputs": [
    {
     "ename": "ValueError",
     "evalue": "'Osaka' is not in list",
     "output_type": "error",
     "traceback": [
      "\u001b[0;31m---------------------------------------------------------------------------\u001b[0m",
      "\u001b[0;31mValueError\u001b[0m                                Traceback (most recent call last)",
      "Cell \u001b[0;32mIn [67], line 3\u001b[0m\n\u001b[1;32m      1\u001b[0m cities \u001b[38;5;241m=\u001b[39m [\u001b[38;5;124m'\u001b[39m\u001b[38;5;124mNew York\u001b[39m\u001b[38;5;124m'\u001b[39m, \u001b[38;5;124m'\u001b[39m\u001b[38;5;124mBeijing\u001b[39m\u001b[38;5;124m'\u001b[39m, \u001b[38;5;124m'\u001b[39m\u001b[38;5;124mCairo\u001b[39m\u001b[38;5;124m'\u001b[39m, \u001b[38;5;124m'\u001b[39m\u001b[38;5;124mMumbai\u001b[39m\u001b[38;5;124m'\u001b[39m, \u001b[38;5;124m'\u001b[39m\u001b[38;5;124mMexico\u001b[39m\u001b[38;5;124m'\u001b[39m]\n\u001b[0;32m----> 3\u001b[0m result \u001b[38;5;241m=\u001b[39m \u001b[43mcities\u001b[49m\u001b[38;5;241;43m.\u001b[39;49m\u001b[43mindex\u001b[49m\u001b[43m(\u001b[49m\u001b[38;5;124;43m'\u001b[39;49m\u001b[38;5;124;43mOsaka\u001b[39;49m\u001b[38;5;124;43m'\u001b[39;49m\u001b[43m)\u001b[49m \u001b[38;5;66;03m# not an element of the list\u001b[39;00m\n\u001b[1;32m      4\u001b[0m \u001b[38;5;28mprint\u001b[39m(result)\n",
      "\u001b[0;31mValueError\u001b[0m: 'Osaka' is not in list"
     ]
    }
   ],
   "source": [
    "cities = ['New York', 'Beijing', 'Cairo', 'Mumbai', 'Mexico']\n",
    "\n",
    "result = cities.index('Osaka') # not an element of the list\n",
    "print(result)"
   ]
  },
  {
   "cell_type": "markdown",
   "id": "8cbf7565",
   "metadata": {},
   "source": [
    "To fix this issue, you need to use the `in` operator.\n",
    "\n",
    "The `in` operator returns `True` if a value is in the list. Otherwise, it returns `False`.\n",
    "\n",
    "Before using the `index()` function, you can use the `in` operator to check if the element that you want to find is in the list. For example:"
   ]
  },
  {
   "cell_type": "code",
   "execution_count": 68,
   "id": "61714cae",
   "metadata": {},
   "outputs": [
    {
     "name": "stdout",
     "output_type": "stream",
     "text": [
      "Osaka doesn't exist in the list.\n"
     ]
    }
   ],
   "source": [
    "cities = ['New York', 'Beijing', 'Cairo', 'Mumbai', 'Mexico']\n",
    "city = 'Osaka'\n",
    "\n",
    "if city in cities:\n",
    "    result = cities.index(city)\n",
    "    print(f\"The {city} has an index of {result}.\")\n",
    "else:\n",
    "    print(f\"{city} doesn't exist in the list.\")"
   ]
  }
 ],
 "metadata": {
  "kernelspec": {
   "display_name": "Python 3 (ipykernel)",
   "language": "python",
   "name": "python3"
  },
  "language_info": {
   "codemirror_mode": {
    "name": "ipython",
    "version": 3
   },
   "file_extension": ".py",
   "mimetype": "text/x-python",
   "name": "python",
   "nbconvert_exporter": "python",
   "pygments_lexer": "ipython3",
   "version": "3.10.6"
  }
 },
 "nbformat": 4,
 "nbformat_minor": 5
}
