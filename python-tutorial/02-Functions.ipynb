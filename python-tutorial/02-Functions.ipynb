{
 "cells": [
  {
   "cell_type": "markdown",
   "id": "b90e4502",
   "metadata": {},
   "source": [
    "#### What is function?\n",
    "\n",
    "A function is a code block that performs a specific job(s) and returns values.\n",
    "\n",
    "Sometimes, you need to perform a task multiple times in a program. And you don’t want to copy the code for that same task all over places.\n",
    "\n",
    "To do so, you wrap the code in a function and use this function to perform the task whenever you need it.\n",
    "\n",
    "For example, whenever you want to display a value on the screen, you need to call the `print()` function. Behind the scene, Python runs the code inside the `print()` function to display a value on the screen.\n",
    "\n",
    "In practice, you use functions to divide a large program into smaller and more manageable parts. The functions will make your program easier to develop, read, test, and maintain.\n",
    "\n",
    "The `print()` function is one of many built-in functions in Python. It means that these functions are available everywhere in the program."
   ]
  },
  {
   "cell_type": "code",
   "execution_count": 1,
   "id": "490f6897",
   "metadata": {},
   "outputs": [],
   "source": [
    "def greetings():\n",
    "    \"\"\"\n",
    "    Docstring: display a greeting to users.\n",
    "    \"\"\"\n",
    "    print(\"Hi\")"
   ]
  },
  {
   "cell_type": "code",
   "execution_count": 2,
   "id": "0bffc717",
   "metadata": {},
   "outputs": [
    {
     "name": "stdout",
     "output_type": "stream",
     "text": [
      "Hi\n"
     ]
    }
   ],
   "source": [
    "# call the function\n",
    "greetings()"
   ]
  },
  {
   "cell_type": "markdown",
   "id": "e4e7d982",
   "metadata": {},
   "source": [
    "`greetings` is the name of the function. And sometimes your function will need some informations to use inside it to do the job. But in here we do not need it.\n",
    "\n",
    "`Docstring` is the explanation of the function. You can define the parameters you'll get from users to make your function work."
   ]
  },
  {
   "cell_type": "code",
   "execution_count": 3,
   "id": "4f5ab2df",
   "metadata": {},
   "outputs": [],
   "source": [
    "# passing an information to function\n",
    "def greetings(name):\n",
    "    print(f\"Hi, {name}\")"
   ]
  },
  {
   "cell_type": "code",
   "execution_count": 4,
   "id": "af70c9d9",
   "metadata": {},
   "outputs": [
    {
     "ename": "TypeError",
     "evalue": "greetings() missing 1 required positional argument: 'name'",
     "output_type": "error",
     "traceback": [
      "\u001b[0;31m---------------------------------------------------------------------------\u001b[0m",
      "\u001b[0;31mTypeError\u001b[0m                                 Traceback (most recent call last)",
      "Cell \u001b[0;32mIn [4], line 1\u001b[0m\n\u001b[0;32m----> 1\u001b[0m \u001b[43mgreetings\u001b[49m\u001b[43m(\u001b[49m\u001b[43m)\u001b[49m\n",
      "\u001b[0;31mTypeError\u001b[0m: greetings() missing 1 required positional argument: 'name'"
     ]
    }
   ],
   "source": [
    "greetings()"
   ]
  },
  {
   "cell_type": "code",
   "execution_count": 5,
   "id": "ffe533c6",
   "metadata": {},
   "outputs": [
    {
     "name": "stdout",
     "output_type": "stream",
     "text": [
      "Hi, deniz\n"
     ]
    }
   ],
   "source": [
    "greetings(\"deniz\")"
   ]
  },
  {
   "cell_type": "code",
   "execution_count": 6,
   "id": "85583d7f",
   "metadata": {},
   "outputs": [
    {
     "name": "stdout",
     "output_type": "stream",
     "text": [
      "Hi, Deniz\n"
     ]
    }
   ],
   "source": [
    "_ = greetings(\"Deniz\")"
   ]
  },
  {
   "cell_type": "code",
   "execution_count": 8,
   "id": "96fbf6d7",
   "metadata": {},
   "outputs": [],
   "source": [
    "_"
   ]
  },
  {
   "cell_type": "code",
   "execution_count": 9,
   "id": "6a584872",
   "metadata": {},
   "outputs": [
    {
     "name": "stdout",
     "output_type": "stream",
     "text": [
      "Hi, Deniz\n"
     ]
    },
    {
     "data": {
      "text/plain": [
       "NoneType"
      ]
     },
     "execution_count": 9,
     "metadata": {},
     "output_type": "execute_result"
    }
   ],
   "source": [
    "type(greetings(\"Deniz\"))"
   ]
  },
  {
   "cell_type": "markdown",
   "id": "eba589e4",
   "metadata": {},
   "source": [
    "### Argument vs. Parameter"
   ]
  },
  {
   "cell_type": "markdown",
   "id": "95157a69",
   "metadata": {},
   "source": [
    "🙊 A **parameter** is a piece of information that a function needs. And you specify the parameter in the function definition. For example, the `greet()` function has a parameter called `name`.\n",
    "\n",
    "🦄 An **argument** is a piece of data that you pass into the function. For example, the text string `'John'` or the variable `jane` is the function argument."
   ]
  },
  {
   "cell_type": "markdown",
   "id": "3666206e",
   "metadata": {},
   "source": [
    "### Return *****\n",
    "\n",
    "The value that a function returns is called **return value**."
   ]
  },
  {
   "cell_type": "code",
   "execution_count": 10,
   "id": "ab573962",
   "metadata": {},
   "outputs": [],
   "source": [
    "def greetings(name):\n",
    "    return f\"Hi, {name}\""
   ]
  },
  {
   "cell_type": "code",
   "execution_count": 11,
   "id": "81e8d90f",
   "metadata": {},
   "outputs": [],
   "source": [
    "_ = greetings(\"Deniz\")"
   ]
  },
  {
   "cell_type": "code",
   "execution_count": 13,
   "id": "66930b82",
   "metadata": {},
   "outputs": [
    {
     "data": {
      "text/plain": [
       "str"
      ]
     },
     "execution_count": 13,
     "metadata": {},
     "output_type": "execute_result"
    }
   ],
   "source": [
    "type(greetings(\"Deniz\"))"
   ]
  },
  {
   "cell_type": "code",
   "execution_count": 12,
   "id": "df0f62e3",
   "metadata": {},
   "outputs": [
    {
     "data": {
      "text/plain": [
       "'Hi, Deniz'"
      ]
     },
     "execution_count": 12,
     "metadata": {},
     "output_type": "execute_result"
    }
   ],
   "source": [
    "_"
   ]
  },
  {
   "cell_type": "code",
   "execution_count": 14,
   "id": "3078f293",
   "metadata": {},
   "outputs": [],
   "source": [
    "def sum(a, b):\n",
    "    return a + b"
   ]
  },
  {
   "cell_type": "code",
   "execution_count": 15,
   "id": "30bcaa98",
   "metadata": {},
   "outputs": [
    {
     "data": {
      "text/plain": [
       "10"
      ]
     },
     "execution_count": 15,
     "metadata": {},
     "output_type": "execute_result"
    }
   ],
   "source": [
    "sum(5,5)"
   ]
  },
  {
   "cell_type": "code",
   "execution_count": 16,
   "id": "b4a895ea",
   "metadata": {},
   "outputs": [
    {
     "data": {
      "text/plain": [
       "int"
      ]
     },
     "execution_count": 16,
     "metadata": {},
     "output_type": "execute_result"
    }
   ],
   "source": [
    "type(sum(3,5))"
   ]
  },
  {
   "cell_type": "markdown",
   "id": "4584dfee",
   "metadata": {},
   "source": [
    "# Default Parameters\n",
    "\n",
    "When you define a function you can define default parameters."
   ]
  },
  {
   "cell_type": "code",
   "execution_count": 17,
   "id": "ee0aa303",
   "metadata": {},
   "outputs": [
    {
     "name": "stdout",
     "output_type": "stream",
     "text": [
      "Hi John\n"
     ]
    }
   ],
   "source": [
    "def greet(name, message='Hi'):\n",
    "    return f\"{message} {name}\"\n",
    "\n",
    "\n",
    "greeting = greet('John')\n",
    "print(greeting)"
   ]
  },
  {
   "cell_type": "markdown",
   "id": "267e8bbc",
   "metadata": {},
   "source": [
    "One importing point is that the order of the parameters is important. If functions wants `name` and `messages`you need to give it in the same order. If you give it in the wrong order the output wouldn't be true."
   ]
  },
  {
   "cell_type": "code",
   "execution_count": 19,
   "id": "212e0c0c",
   "metadata": {},
   "outputs": [
    {
     "data": {
      "text/plain": [
       "'hello deniz'"
      ]
     },
     "execution_count": 19,
     "metadata": {},
     "output_type": "execute_result"
    }
   ],
   "source": [
    "greet(message = \"hello\", name = \"deniz\") # *****"
   ]
  },
  {
   "cell_type": "markdown",
   "id": "75af54d0",
   "metadata": {},
   "source": [
    "Let's make it more seeable with integers."
   ]
  },
  {
   "cell_type": "code",
   "execution_count": 20,
   "id": "abe9c0ba",
   "metadata": {},
   "outputs": [],
   "source": [
    "def get_net_price(price, discount):\n",
    "    return price * (1-discount)"
   ]
  },
  {
   "cell_type": "code",
   "execution_count": 21,
   "id": "3c6e62cb",
   "metadata": {},
   "outputs": [
    {
     "data": {
      "text/plain": [
       "90.0"
      ]
     },
     "execution_count": 21,
     "metadata": {},
     "output_type": "execute_result"
    }
   ],
   "source": [
    "get_net_price(100, 0.1)"
   ]
  },
  {
   "cell_type": "code",
   "execution_count": 22,
   "id": "e009cef0",
   "metadata": {},
   "outputs": [
    {
     "data": {
      "text/plain": [
       "-9.9"
      ]
     },
     "execution_count": 22,
     "metadata": {},
     "output_type": "execute_result"
    }
   ],
   "source": [
    "get_net_price(0.1, 100)"
   ]
  },
  {
   "cell_type": "code",
   "execution_count": 23,
   "id": "78c7db52",
   "metadata": {},
   "outputs": [
    {
     "data": {
      "text/plain": [
       "90.0"
      ]
     },
     "execution_count": 23,
     "metadata": {},
     "output_type": "execute_result"
    }
   ],
   "source": [
    "# you can do it like this\n",
    "get_net_price(discount=0.1, price=100)"
   ]
  },
  {
   "cell_type": "markdown",
   "id": "7338d003",
   "metadata": {},
   "source": [
    "But how can you know the parameters and their orders. That's why the `Docstring` matters."
   ]
  },
  {
   "cell_type": "code",
   "execution_count": 25,
   "id": "fdfdee8a",
   "metadata": {},
   "outputs": [],
   "source": [
    "def get_net_price(price, discount):\n",
    "    \"\"\"\n",
    "    Parameters:\n",
    "    price: price\n",
    "    discount: discount\n",
    "    \"\"\"\n",
    "    return price * (1-discount)"
   ]
  },
  {
   "cell_type": "code",
   "execution_count": 26,
   "id": "cc2d0c47",
   "metadata": {},
   "outputs": [
    {
     "data": {
      "text/plain": [
       "80.0"
      ]
     },
     "execution_count": 26,
     "metadata": {},
     "output_type": "execute_result"
    }
   ],
   "source": [
    "get_net_price(100, 0.2)"
   ]
  },
  {
   "cell_type": "code",
   "execution_count": 27,
   "id": "dfc3e0a7",
   "metadata": {},
   "outputs": [
    {
     "data": {
      "text/plain": [
       "80.0"
      ]
     },
     "execution_count": 27,
     "metadata": {},
     "output_type": "execute_result"
    }
   ],
   "source": [
    "get_net_price(100, discount = 0.2)"
   ]
  },
  {
   "cell_type": "code",
   "execution_count": 28,
   "id": "67aea89a",
   "metadata": {},
   "outputs": [],
   "source": [
    "def get_net_price(price, tax=0.07, discount=0.05):\n",
    "    return price * (1 + tax - discount)"
   ]
  },
  {
   "cell_type": "markdown",
   "id": "50bcefdf",
   "metadata": {},
   "source": [
    "Suppose that you want to use the default value for the tax parameter but not discount. The following function call doesn’t work correctly."
   ]
  },
  {
   "cell_type": "code",
   "execution_count": 29,
   "id": "f9911ece",
   "metadata": {},
   "outputs": [
    {
     "data": {
      "text/plain": [
       "105.0"
      ]
     },
     "execution_count": 29,
     "metadata": {},
     "output_type": "execute_result"
    }
   ],
   "source": [
    "get_net_price(100, 0.10) # you want discount to be 0.06 but it will take tax as 0.06"
   ]
  },
  {
   "cell_type": "code",
   "execution_count": 30,
   "id": "52fa251e",
   "metadata": {},
   "outputs": [
    {
     "data": {
      "text/plain": [
       "97.00000000000001"
      ]
     },
     "execution_count": 30,
     "metadata": {},
     "output_type": "execute_result"
    }
   ],
   "source": [
    "get_net_price(price=100, discount=0.10) # shift+tab ile infoları görüntüleyebilirsiniz"
   ]
  },
  {
   "cell_type": "markdown",
   "id": "3496ef6b",
   "metadata": {},
   "source": [
    "# Lambda *****\n",
    "\n"
   ]
  },
  {
   "cell_type": "markdown",
   "id": "5c6ba367",
   "metadata": {},
   "source": [
    "You'll learn about Python lambda expressions and how to use them to write functions. Sometimes you need to write a simple function that contains one expression and you need use that function once. So it becomes unnecessary to use `def` keyword. One time used functions called `anonymous functions`.\n",
    "\n",
    "`lambda parameters: expression`\n",
    "\n",
    "same with,\n",
    "\n",
    "`def anonnymous(parameters):`\n",
    "        `return expression`"
   ]
  },
  {
   "cell_type": "code",
   "execution_count": 31,
   "id": "9da5cd2e",
   "metadata": {},
   "outputs": [],
   "source": [
    "add_one = lambda x: x + 1"
   ]
  },
  {
   "cell_type": "code",
   "execution_count": 32,
   "id": "cb1972b5",
   "metadata": {},
   "outputs": [
    {
     "data": {
      "text/plain": [
       "3"
      ]
     },
     "execution_count": 32,
     "metadata": {},
     "output_type": "execute_result"
    }
   ],
   "source": [
    "add_one(2) # just like functions"
   ]
  },
  {
   "cell_type": "markdown",
   "id": "6527090c",
   "metadata": {},
   "source": [
    "Let's bring a new term, `map`. The `map` function in Python takes in a function and a list. The function is called with all the items in the list and a new list is returned which contains items returned by that function for each item."
   ]
  },
  {
   "cell_type": "code",
   "execution_count": 36,
   "id": "e0ce5ed6",
   "metadata": {},
   "outputs": [
    {
     "data": {
      "text/plain": [
       "[2, 6, 8, 4, 28, 10, 12, 18]"
      ]
     },
     "execution_count": 36,
     "metadata": {},
     "output_type": "execute_result"
    }
   ],
   "source": [
    "# program to double each item in a list using map()\n",
    "\n",
    "my_list = [1, 3, 4, 2, 14, 5, 6, 9]\n",
    "\n",
    "new_list = list(map(lambda x: x * 2, my_list))\n",
    "\n",
    "new_list"
   ]
  },
  {
   "cell_type": "code",
   "execution_count": 35,
   "id": "12a47de0",
   "metadata": {},
   "outputs": [
    {
     "data": {
      "text/plain": [
       "<map at 0x10774a1d0>"
      ]
     },
     "execution_count": 35,
     "metadata": {},
     "output_type": "execute_result"
    }
   ],
   "source": [
    "map(lambda x: x * 2, my_list)"
   ]
  },
  {
   "cell_type": "markdown",
   "id": "c84c7862",
   "metadata": {},
   "source": [
    "Python’s `map()` is a built-in function that allows you to process and transform all the items in an iterable without using an explicit for loop, a technique commonly known as mapping. `map()` is useful when you need to apply a transformation function to each item in an iterable and transform them into a new iterable.\n",
    "\n",
    "> Note: In Python 2.x, `map()` returns a list. This behavior changed in Python 3.x. Now, `map()` returns a map object, which is an iterator that yields items on demand. That’s why you need to call list() to create the desired list object."
   ]
  },
  {
   "cell_type": "code",
   "execution_count": 5,
   "id": "5df6d4e7",
   "metadata": {},
   "outputs": [
    {
     "data": {
      "text/plain": [
       "<map at 0x10642a680>"
      ]
     },
     "execution_count": 5,
     "metadata": {},
     "output_type": "execute_result"
    }
   ],
   "source": [
    "map(lambda x: x * 2, my_list)"
   ]
  },
  {
   "cell_type": "code",
   "execution_count": 37,
   "id": "b517f5d5",
   "metadata": {},
   "outputs": [],
   "source": [
    "names = [\"GUL\", \"BUS\"]\n",
    "\n",
    "names = list(map(lambda x: x.lower(), names))"
   ]
  },
  {
   "cell_type": "code",
   "execution_count": 38,
   "id": "2a43fa22",
   "metadata": {},
   "outputs": [
    {
     "data": {
      "text/plain": [
       "['gul', 'bus']"
      ]
     },
     "execution_count": 38,
     "metadata": {},
     "output_type": "execute_result"
    }
   ],
   "source": [
    "names"
   ]
  },
  {
   "cell_type": "code",
   "execution_count": 39,
   "id": "3944d8b9",
   "metadata": {},
   "outputs": [
    {
     "data": {
      "text/plain": [
       "'gul'"
      ]
     },
     "execution_count": 39,
     "metadata": {},
     "output_type": "execute_result"
    }
   ],
   "source": [
    "(lambda x: x.lower())(\"GUL\")"
   ]
  },
  {
   "cell_type": "code",
   "execution_count": null,
   "id": "3dd7688c",
   "metadata": {},
   "outputs": [],
   "source": []
  }
 ],
 "metadata": {
  "kernelspec": {
   "display_name": "Python 3 (ipykernel)",
   "language": "python",
   "name": "python3"
  },
  "language_info": {
   "codemirror_mode": {
    "name": "ipython",
    "version": 3
   },
   "file_extension": ".py",
   "mimetype": "text/x-python",
   "name": "python",
   "nbconvert_exporter": "python",
   "pygments_lexer": "ipython3",
   "version": "3.10.6"
  }
 },
 "nbformat": 4,
 "nbformat_minor": 5
}
