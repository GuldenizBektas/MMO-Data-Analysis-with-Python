{
 "cells": [
  {
   "cell_type": "markdown",
   "id": "9cf5486d",
   "metadata": {},
   "source": [
    "# Python iterables"
   ]
  },
  {
   "cell_type": "markdown",
   "id": "dda3d4f1",
   "metadata": {},
   "source": [
    "In Python, an iterable is an object that includes zero, one, or many elements. An iterable has the ability to return its elements one at a time.\n",
    "\n",
    "Because of this feature, you can use a `for` loop to iterate over an iterable."
   ]
  },
  {
   "cell_type": "code",
   "execution_count": null,
   "id": "8e698878",
   "metadata": {},
   "outputs": [],
   "source": []
  }
 ],
 "metadata": {
  "kernelspec": {
   "display_name": "Python 3 (ipykernel)",
   "language": "python",
   "name": "python3"
  },
  "language_info": {
   "codemirror_mode": {
    "name": "ipython",
    "version": 3
   },
   "file_extension": ".py",
   "mimetype": "text/x-python",
   "name": "python",
   "nbconvert_exporter": "python",
   "pygments_lexer": "ipython3",
   "version": "3.10.6"
  }
 },
 "nbformat": 4,
 "nbformat_minor": 5
}
