{
 "cells": [
  {
   "cell_type": "markdown",
   "id": "9cf5486d",
   "metadata": {},
   "source": [
    "# Python iterables"
   ]
  },
  {
   "cell_type": "markdown",
   "id": "dda3d4f1",
   "metadata": {},
   "source": [
    "In Python, an iterable is an object that includes zero, one, or many elements. An iterable has the ability to return its elements one at a time.\n",
    "\n",
    "Because of this feature, you can use a `for` loop to iterate over an iterable.\n",
    "\n",
    "`range()`function is an iterable because you can iterate over its result."
   ]
  },
  {
   "cell_type": "code",
   "execution_count": 2,
   "id": "8e698878",
   "metadata": {},
   "outputs": [
    {
     "name": "stdout",
     "output_type": "stream",
     "text": [
      "0\n",
      "1\n",
      "2\n"
     ]
    }
   ],
   "source": [
    "for idx in range(3):\n",
    "    print(idx)"
   ]
  },
  {
   "cell_type": "markdown",
   "id": "7d9fff5c",
   "metadata": {},
   "source": [
    "Also a *string* is an iterable because you can use a for loop to iterate over it."
   ]
  },
  {
   "cell_type": "code",
   "execution_count": 1,
   "id": "95107182",
   "metadata": {},
   "outputs": [
    {
     "name": "stdout",
     "output_type": "stream",
     "text": [
      "b\n",
      "o\n",
      "o\n",
      "t\n",
      "c\n",
      "a\n",
      "m\n",
      "p\n"
     ]
    }
   ],
   "source": [
    "str = \"bootcamp\"\n",
    "for i in str:\n",
    "    print(i)"
   ]
  },
  {
   "cell_type": "markdown",
   "id": "4669ad6b",
   "metadata": {},
   "source": [
    "Lists and tuples are also iterables because you can loop over them."
   ]
  },
  {
   "cell_type": "code",
   "execution_count": 3,
   "id": "219c0440",
   "metadata": {},
   "outputs": [
    {
     "name": "stdout",
     "output_type": "stream",
     "text": [
      "high\n",
      "medium\n",
      "low\n"
     ]
    }
   ],
   "source": [
    "ranks = [\"high\", \"medium\", \"low\"]\n",
    "for i in ranks:\n",
    "    print(i)"
   ]
  },
  {
   "cell_type": "markdown",
   "id": "bcdacdc2",
   "metadata": {},
   "source": [
    "👉🏽 If you know you can loop over something, it's **iterable**.\n",
    "\n",
    "### Iterator\n",
    "\n",
    "An iterator is the agent that performs the iteration. To get an iterator from an iterable you use the `ìter()`function."
   ]
  },
  {
   "cell_type": "code",
   "execution_count": 14,
   "id": "2ef87a91",
   "metadata": {},
   "outputs": [
    {
     "data": {
      "text/plain": [
       "<list_iterator at 0x1128eca60>"
      ]
     },
     "execution_count": 14,
     "metadata": {},
     "output_type": "execute_result"
    }
   ],
   "source": [
    "color = [\"red\", \"green\", \"blue\"]\n",
    "color_iter = iter(color)\n",
    "color_iter"
   ]
  },
  {
   "cell_type": "code",
   "execution_count": 18,
   "id": "093f6a88",
   "metadata": {},
   "outputs": [
    {
     "ename": "StopIteration",
     "evalue": "",
     "output_type": "error",
     "traceback": [
      "\u001b[0;31m---------------------------------------------------------------------------\u001b[0m",
      "\u001b[0;31mStopIteration\u001b[0m                             Traceback (most recent call last)",
      "Cell \u001b[0;32mIn [18], line 1\u001b[0m\n\u001b[0;32m----> 1\u001b[0m color \u001b[38;5;241m=\u001b[39m \u001b[38;5;28;43mnext\u001b[39;49m\u001b[43m(\u001b[49m\u001b[43mcolor_iter\u001b[49m\u001b[43m)\u001b[49m\n\u001b[1;32m      2\u001b[0m color\n",
      "\u001b[0;31mStopIteration\u001b[0m: "
     ]
    }
   ],
   "source": [
    "color = next(color_iter)\n",
    "color"
   ]
  },
  {
   "cell_type": "markdown",
   "id": "be133389",
   "metadata": {},
   "source": [
    "It means that once you consume an element from the iterator, it’s over and gone. Once you complete looping over an iterator, the iterator becomes empty.\n",
    "\n",
    "Since you can iterate over an iterator, the iterator is also an iterable object. "
   ]
  },
  {
   "cell_type": "code",
   "execution_count": 17,
   "id": "6f9ab424",
   "metadata": {},
   "outputs": [
    {
     "name": "stdout",
     "output_type": "stream",
     "text": [
      "blue\n"
     ]
    }
   ],
   "source": [
    "for color in color_iter:\n",
    "    print(color)"
   ]
  },
  {
   "cell_type": "markdown",
   "id": "fba2451b",
   "metadata": {},
   "source": [
    "`red` is being iterate over once, so it's out as you see."
   ]
  },
  {
   "cell_type": "markdown",
   "id": "91155784",
   "metadata": {},
   "source": [
    "# Map\n",
    "\n",
    "Sometimes you may need to transform the elements of the list and return a new list that contains the transformed element."
   ]
  },
  {
   "cell_type": "code",
   "execution_count": 19,
   "id": "428cb738",
   "metadata": {},
   "outputs": [
    {
     "data": {
      "text/plain": [
       "[200, 400, 600]"
      ]
     },
     "execution_count": 19,
     "metadata": {},
     "output_type": "execute_result"
    }
   ],
   "source": [
    "# do in a long way\n",
    "\n",
    "bonuses = [100, 200, 300]\n",
    "\n",
    "new_bonuses = []\n",
    "\n",
    "for bonus in bonuses:\n",
    "    new_bonuses.append(bonus*2)\n",
    "    \n",
    "new_bonuses"
   ]
  },
  {
   "cell_type": "code",
   "execution_count": 20,
   "id": "08c29520",
   "metadata": {},
   "outputs": [],
   "source": [
    "# short and nicer way\n",
    "# iterators = map(functions, list)\n",
    "\n",
    "new_bonuses = list(map(lambda x: x*2, bonuses))"
   ]
  },
  {
   "cell_type": "code",
   "execution_count": 21,
   "id": "52e117ef",
   "metadata": {},
   "outputs": [
    {
     "data": {
      "text/plain": [
       "[200, 400, 600]"
      ]
     },
     "execution_count": 21,
     "metadata": {},
     "output_type": "execute_result"
    }
   ],
   "source": [
    "new_bonuses"
   ]
  },
  {
   "cell_type": "code",
   "execution_count": 22,
   "id": "b07d32cd",
   "metadata": {},
   "outputs": [
    {
     "data": {
      "text/plain": [
       "['David', 'Peter', 'Jennifer']"
      ]
     },
     "execution_count": 22,
     "metadata": {},
     "output_type": "execute_result"
    }
   ],
   "source": [
    "names = [\"david\", \"peter\", \"jennifer\"]\n",
    "\n",
    "new_names = list(map(lambda x: x.capitalize(), names))\n",
    "\n",
    "new_names"
   ]
  },
  {
   "cell_type": "code",
   "execution_count": 24,
   "id": "fc7d899c",
   "metadata": {},
   "outputs": [
    {
     "data": {
      "text/plain": [
       "[100, 200, 300]"
      ]
     },
     "execution_count": 24,
     "metadata": {},
     "output_type": "execute_result"
    }
   ],
   "source": [
    "bonuses"
   ]
  },
  {
   "cell_type": "markdown",
   "id": "218bed79",
   "metadata": {},
   "source": [
    "### On tuple\n",
    "\n",
    "you need to calculate the tax amount for each product with a 10% tax 10%. In addition, you need to add the tax amount to the third element of each item in the list."
   ]
  },
  {
   "cell_type": "code",
   "execution_count": 25,
   "id": "b3cd1bf6",
   "metadata": {},
   "outputs": [],
   "source": [
    "carts = [['SmartPhone', 400],\n",
    "         ['Tablet', 450],\n",
    "         ['Laptop', 700]]"
   ]
  },
  {
   "cell_type": "code",
   "execution_count": 27,
   "id": "42401717",
   "metadata": {},
   "outputs": [],
   "source": [
    "carts = [('SmartPhone', 400),\n",
    "         ('Tablet', 450),\n",
    "         ('Laptop', 700)]"
   ]
  },
  {
   "cell_type": "code",
   "execution_count": 28,
   "id": "49849fcb",
   "metadata": {},
   "outputs": [
    {
     "data": {
      "text/plain": [
       "[['SmartPhone', 400, 40.0], ['Tablet', 450, 45.0], ['Laptop', 700, 70.0]]"
      ]
     },
     "execution_count": 28,
     "metadata": {},
     "output_type": "execute_result"
    }
   ],
   "source": [
    "TAX = 0.1\n",
    "carts_ = list(map(lambda item: [item[0], item[1], item[1] * TAX], carts))\n",
    "carts_"
   ]
  },
  {
   "cell_type": "markdown",
   "id": "989efbd4",
   "metadata": {},
   "source": [
    "# Filter\n",
    "\n",
    "Sometimes, you need to iterate over elements of a list and select some of them based on specified criteria."
   ]
  },
  {
   "cell_type": "code",
   "execution_count": 37,
   "id": "13732e2a",
   "metadata": {},
   "outputs": [],
   "source": [
    "scores = [70, 60, 80, 90, 50]"
   ]
  },
  {
   "cell_type": "code",
   "execution_count": 39,
   "id": "dc643921",
   "metadata": {},
   "outputs": [
    {
     "name": "stdout",
     "output_type": "stream",
     "text": [
      "[70, 80, 90]\n"
     ]
    }
   ],
   "source": [
    "# get all elements from the scores list where each element is greater than or equal to 70\n",
    "filtered = []\n",
    "\n",
    "for i in scores:\n",
    "    if i >= 70:\n",
    "        filtered.append(i)\n",
    "\n",
    "print(filtered)\n",
    "\n"
   ]
  },
  {
   "cell_type": "code",
   "execution_count": 32,
   "id": "07b597b4",
   "metadata": {},
   "outputs": [
    {
     "data": {
      "text/plain": [
       "[70, 80, 90]"
      ]
     },
     "execution_count": 32,
     "metadata": {},
     "output_type": "execute_result"
    }
   ],
   "source": [
    "filtered = filter(lambda score: score >= 70, scores)\n",
    "list(filtered)\n",
    "#filtered"
   ]
  },
  {
   "cell_type": "code",
   "execution_count": 40,
   "id": "6bfa6426",
   "metadata": {},
   "outputs": [
    {
     "data": {
      "text/plain": [
       "[['China', 1394015977], ['United States', 329877505], ['India', 1326093247]]"
      ]
     },
     "execution_count": 40,
     "metadata": {},
     "output_type": "execute_result"
    }
   ],
   "source": [
    "countries = [\n",
    "    ['China', 1394015977],\n",
    "    ['United States', 329877505],\n",
    "    ['India', 1326093247],\n",
    "    ['Indonesia', 267026366],\n",
    "    ['Bangladesh', 162650853],\n",
    "    ['Pakistan', 233500636],\n",
    "    ['Nigeria', 214028302],\n",
    "    ['Brazil', 21171597],\n",
    "    ['Russia', 141722205],\n",
    "    ['Mexico', 128649565]\n",
    "]\n",
    "\n",
    "# get all the countries whose populations are greater than 300 million\n",
    "\n",
    "populated = list(filter(lambda c: c[1] > 300_000_000, countries))\n",
    "populated"
   ]
  },
  {
   "cell_type": "code",
   "execution_count": 42,
   "id": "508c2ed8",
   "metadata": {},
   "outputs": [
    {
     "data": {
      "text/plain": [
       "[['China', 1394015977],\n",
       " ['United States', 329877505],\n",
       " ['India', 1326093247],\n",
       " ['Indonesia', 267026366],\n",
       " ['Bangladesh', 162650853],\n",
       " ['Pakistan', 233500636],\n",
       " ['Nigeria', 214028302],\n",
       " ['Brazil', 21171597],\n",
       " ['Russia', 141722205],\n",
       " ['Mexico', 128649565]]"
      ]
     },
     "execution_count": 42,
     "metadata": {},
     "output_type": "execute_result"
    }
   ],
   "source": [
    "[out for out in countries] # a way of loop over a iteration"
   ]
  },
  {
   "cell_type": "code",
   "execution_count": 44,
   "id": "e4e14c88",
   "metadata": {},
   "outputs": [
    {
     "data": {
      "text/plain": [
       "[['United States', 329877505],\n",
       " ['India', 1326093247],\n",
       " ['Indonesia', 267026366],\n",
       " ['Bangladesh', 162650853],\n",
       " ['Pakistan', 233500636],\n",
       " ['Nigeria', 214028302],\n",
       " ['Brazil', 21171597],\n",
       " ['Russia', 141722205],\n",
       " ['Mexico', 128649565]]"
      ]
     },
     "execution_count": 44,
     "metadata": {},
     "output_type": "execute_result"
    }
   ],
   "source": [
    "[out for out in countries if out[1] != 1394015977] # != not equal"
   ]
  },
  {
   "cell_type": "code",
   "execution_count": 45,
   "id": "da7d3945",
   "metadata": {},
   "outputs": [
    {
     "data": {
      "text/plain": [
       "[1, 2, 3, 4]"
      ]
     },
     "execution_count": 45,
     "metadata": {},
     "output_type": "execute_result"
    }
   ],
   "source": [
    "liste = [1,2,3,4]\n",
    "[out for out in liste]"
   ]
  },
  {
   "cell_type": "code",
   "execution_count": 46,
   "id": "b6b648a3",
   "metadata": {},
   "outputs": [
    {
     "name": "stdout",
     "output_type": "stream",
     "text": [
      "1\n",
      "2\n",
      "3\n",
      "4\n"
     ]
    }
   ],
   "source": [
    "for out in liste:\n",
    "    print(out)"
   ]
  },
  {
   "cell_type": "code",
   "execution_count": null,
   "id": "797bc99c",
   "metadata": {},
   "outputs": [],
   "source": []
  }
 ],
 "metadata": {
  "kernelspec": {
   "display_name": "Python 3 (ipykernel)",
   "language": "python",
   "name": "python3"
  },
  "language_info": {
   "codemirror_mode": {
    "name": "ipython",
    "version": 3
   },
   "file_extension": ".py",
   "mimetype": "text/x-python",
   "name": "python",
   "nbconvert_exporter": "python",
   "pygments_lexer": "ipython3",
   "version": "3.10.6"
  }
 },
 "nbformat": 4,
 "nbformat_minor": 5
}
