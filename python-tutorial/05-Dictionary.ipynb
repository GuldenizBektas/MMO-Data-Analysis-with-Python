{
 "cells": [
  {
   "cell_type": "markdown",
   "id": "85d8ab3c",
   "metadata": {},
   "source": [
    "# Dictionary\n",
    "\n",
    "A Python dictionary is a collection of key-value pairs where each key is associated with a value.\n",
    "\n",
    "A value in the key-value pair can be a number, a string, a list, a tuple, or even another dictionary. In fact, you can use a value of any valid type in Python as the value in the key-value pair.\n",
    "\n",
    "A key in the key-value pair must be immutable. In other words, the key cannot be changed, for example, a number, a string, a tuple, etc.\n",
    "\n",
    "Python uses curly braces `{}` to define a dictionary. Inside the curly braces, you can place zero, one, or many key-value pairs.\n",
    "\n",
    "The following example defines an empty dictionary:\n",
    "\n",
    "`empty_dict = {}`"
   ]
  },
  {
   "cell_type": "code",
   "execution_count": 1,
   "id": "649fea79",
   "metadata": {},
   "outputs": [],
   "source": [
    "person = {\n",
    "    'first_name': 'John',\n",
    "    'last_name': 'Doe',\n",
    "    'age': 25,\n",
    "    'favorite_colors': ['blue', 'green'],\n",
    "    'active': True\n",
    "}"
   ]
  },
  {
   "cell_type": "markdown",
   "id": "5e4ac1d8",
   "metadata": {},
   "source": [
    "To access a value by it's key in a dictionary, you can use `get()` method or you can use square brackets."
   ]
  },
  {
   "cell_type": "code",
   "execution_count": 2,
   "id": "648b9e76",
   "metadata": {},
   "outputs": [
    {
     "data": {
      "text/plain": [
       "'John'"
      ]
     },
     "execution_count": 2,
     "metadata": {},
     "output_type": "execute_result"
    }
   ],
   "source": [
    "person.get(\"first_name\")"
   ]
  },
  {
   "cell_type": "code",
   "execution_count": 3,
   "id": "4f08236e",
   "metadata": {},
   "outputs": [
    {
     "data": {
      "text/plain": [
       "'John'"
      ]
     },
     "execution_count": 3,
     "metadata": {},
     "output_type": "execute_result"
    }
   ],
   "source": [
    "person[\"first_name\"]"
   ]
  },
  {
   "cell_type": "code",
   "execution_count": 4,
   "id": "482e0cc8",
   "metadata": {},
   "outputs": [
    {
     "ename": "KeyError",
     "evalue": "'gender'",
     "output_type": "error",
     "traceback": [
      "\u001b[0;31m---------------------------------------------------------------------------\u001b[0m",
      "\u001b[0;31mKeyError\u001b[0m                                  Traceback (most recent call last)",
      "Cell \u001b[0;32mIn [4], line 3\u001b[0m\n\u001b[1;32m      1\u001b[0m \u001b[38;5;66;03m# if you attempt to access a key that doesn't exist with get(), you'll get an error\u001b[39;00m\n\u001b[0;32m----> 3\u001b[0m \u001b[43mperson\u001b[49m\u001b[43m[\u001b[49m\u001b[38;5;124;43m\"\u001b[39;49m\u001b[38;5;124;43mgender\u001b[39;49m\u001b[38;5;124;43m\"\u001b[39;49m\u001b[43m]\u001b[49m\n",
      "\u001b[0;31mKeyError\u001b[0m: 'gender'"
     ]
    }
   ],
   "source": [
    "# if you attempt to access a key that doesn't exist with get(), you'll get an error\n",
    "\n",
    "person[\"gender\"]"
   ]
  },
  {
   "cell_type": "code",
   "execution_count": 6,
   "id": "c58798c8",
   "metadata": {},
   "outputs": [
    {
     "name": "stdout",
     "output_type": "stream",
     "text": [
      "None\n"
     ]
    }
   ],
   "source": [
    "# to avoid this error\n",
    "gender = person.get(\"gender\")\n",
    "print(gender)"
   ]
  },
  {
   "cell_type": "markdown",
   "id": "604927f3",
   "metadata": {},
   "source": [
    "### Adding new key-value pairs"
   ]
  },
  {
   "cell_type": "code",
   "execution_count": 7,
   "id": "8c9fa7fe",
   "metadata": {},
   "outputs": [],
   "source": [
    "person[\"gender\"] = \"male\""
   ]
  },
  {
   "cell_type": "code",
   "execution_count": 8,
   "id": "ad301dc0",
   "metadata": {},
   "outputs": [
    {
     "data": {
      "text/plain": [
       "{'first_name': 'John',\n",
       " 'last_name': 'Doe',\n",
       " 'age': 25,\n",
       " 'favorite_colors': ['blue', 'green'],\n",
       " 'active': True,\n",
       " 'gender': 'male'}"
      ]
     },
     "execution_count": 8,
     "metadata": {},
     "output_type": "execute_result"
    }
   ],
   "source": [
    "person"
   ]
  },
  {
   "cell_type": "markdown",
   "id": "0b3d9c39",
   "metadata": {},
   "source": [
    "### Modifying an existing one"
   ]
  },
  {
   "cell_type": "code",
   "execution_count": 9,
   "id": "f7cdecb9",
   "metadata": {},
   "outputs": [],
   "source": [
    "person[\"age\"] = 30"
   ]
  },
  {
   "cell_type": "code",
   "execution_count": 10,
   "id": "4aa27441",
   "metadata": {},
   "outputs": [
    {
     "data": {
      "text/plain": [
       "{'first_name': 'John',\n",
       " 'last_name': 'Doe',\n",
       " 'age': 30,\n",
       " 'favorite_colors': ['blue', 'green'],\n",
       " 'active': True,\n",
       " 'gender': 'male'}"
      ]
     },
     "execution_count": 10,
     "metadata": {},
     "output_type": "execute_result"
    }
   ],
   "source": [
    "person"
   ]
  },
  {
   "cell_type": "code",
   "execution_count": 11,
   "id": "12452638",
   "metadata": {},
   "outputs": [],
   "source": [
    "# delete a key and it's item\n",
    "\n",
    "del person[\"gender\"]"
   ]
  },
  {
   "cell_type": "code",
   "execution_count": 12,
   "id": "c7a1071d",
   "metadata": {},
   "outputs": [
    {
     "data": {
      "text/plain": [
       "{'first_name': 'John',\n",
       " 'last_name': 'Doe',\n",
       " 'age': 30,\n",
       " 'favorite_colors': ['blue', 'green'],\n",
       " 'active': True}"
      ]
     },
     "execution_count": 12,
     "metadata": {},
     "output_type": "execute_result"
    }
   ],
   "source": [
    "person"
   ]
  },
  {
   "cell_type": "markdown",
   "id": "7e596305",
   "metadata": {},
   "source": [
    "### Looping through a dictionary\n",
    "\n",
    "`items()` -> returns key and value"
   ]
  },
  {
   "cell_type": "code",
   "execution_count": 14,
   "id": "d756ff79",
   "metadata": {},
   "outputs": [
    {
     "data": {
      "text/plain": [
       "dict_items([('first_name', 'John'), ('last_name', 'Doe'), ('age', 30), ('favorite_colors', ['blue', 'green']), ('active', True)])"
      ]
     },
     "execution_count": 14,
     "metadata": {},
     "output_type": "execute_result"
    }
   ],
   "source": [
    "person.items()"
   ]
  },
  {
   "cell_type": "code",
   "execution_count": 16,
   "id": "9b0e486d",
   "metadata": {},
   "outputs": [
    {
     "name": "stdout",
     "output_type": "stream",
     "text": [
      "first_name: John\n",
      "last_name: Doe\n",
      "age: 30\n",
      "favorite_colors: ['blue', 'green']\n",
      "active: True\n"
     ]
    }
   ],
   "source": [
    "for key, val in person.items():\n",
    "    print(f\"{key}: {val}\")"
   ]
  },
  {
   "cell_type": "code",
   "execution_count": 17,
   "id": "492446e5",
   "metadata": {},
   "outputs": [
    {
     "name": "stdout",
     "output_type": "stream",
     "text": [
      "first_name\n",
      "last_name\n",
      "age\n",
      "favorite_colors\n",
      "active\n"
     ]
    }
   ],
   "source": [
    "# looping through keys\n",
    "for key in person.keys():\n",
    "    print(key)"
   ]
  },
  {
   "cell_type": "code",
   "execution_count": 18,
   "id": "d866463c",
   "metadata": {},
   "outputs": [
    {
     "name": "stdout",
     "output_type": "stream",
     "text": [
      "John\n",
      "Doe\n",
      "30\n",
      "['blue', 'green']\n",
      "True\n"
     ]
    }
   ],
   "source": [
    "# loop through values\n",
    "for val in person.values():\n",
    "    print(val)"
   ]
  },
  {
   "cell_type": "markdown",
   "id": "b5155b55",
   "metadata": {},
   "source": [
    "### Dictionary comprehension\n",
    "\n",
    "`{key:value for (key,value) in dict.items() if condition}`"
   ]
  },
  {
   "cell_type": "code",
   "execution_count": 19,
   "id": "147861c4",
   "metadata": {},
   "outputs": [],
   "source": [
    "#  items are stock symbol and price\n",
    "stocks = {\n",
    "    'AAPL': 121,\n",
    "    'AMZN': 3380,\n",
    "    'MSFT': 219,\n",
    "    'BIIB': 280,\n",
    "    'QDEL': 266,\n",
    "    'LVGO': 144\n",
    "}"
   ]
  },
  {
   "cell_type": "code",
   "execution_count": 20,
   "id": "a35e3c24",
   "metadata": {},
   "outputs": [
    {
     "name": "stdout",
     "output_type": "stream",
     "text": [
      "{'AAPL': 123.42, 'AMZN': 3447.6, 'MSFT': 223.38, 'BIIB': 285.6, 'QDEL': 271.32, 'LVGO': 146.88}\n"
     ]
    }
   ],
   "source": [
    "# to increase the price of each stock by 2%\n",
    "new_stocks = {}\n",
    "for symbol, price in stocks.items():\n",
    "    new_stocks[symbol] = price*1.02\n",
    "\n",
    "print(new_stocks)"
   ]
  },
  {
   "cell_type": "code",
   "execution_count": 21,
   "id": "3985b016",
   "metadata": {},
   "outputs": [
    {
     "data": {
      "text/plain": [
       "{'AAPL': 123.42,\n",
       " 'AMZN': 3447.6,\n",
       " 'MSFT': 223.38,\n",
       " 'BIIB': 285.6,\n",
       " 'QDEL': 271.32,\n",
       " 'LVGO': 146.88}"
      ]
     },
     "execution_count": 21,
     "metadata": {},
     "output_type": "execute_result"
    }
   ],
   "source": [
    "# to use dictionary comprehension to achieve the same result\n",
    "new_stocks = {symbol: price * 1.02 for (symbol, price) in stocks.items()}\n",
    "new_stocks"
   ]
  },
  {
   "cell_type": "code",
   "execution_count": 22,
   "id": "a5c6ae92",
   "metadata": {},
   "outputs": [
    {
     "data": {
      "text/plain": [
       "{'AMZN': 3380, 'MSFT': 219, 'BIIB': 280, 'QDEL': 266}"
      ]
     },
     "execution_count": 22,
     "metadata": {},
     "output_type": "execute_result"
    }
   ],
   "source": [
    "# to select stocks whose prices are greater than 200\n",
    "selected_stocks = {s: p for (s, p) in stocks.items() if p > 200}\n",
    "selected_stocks"
   ]
  }
 ],
 "metadata": {
  "kernelspec": {
   "display_name": "Python 3 (ipykernel)",
   "language": "python",
   "name": "python3"
  },
  "language_info": {
   "codemirror_mode": {
    "name": "ipython",
    "version": 3
   },
   "file_extension": ".py",
   "mimetype": "text/x-python",
   "name": "python",
   "nbconvert_exporter": "python",
   "pygments_lexer": "ipython3",
   "version": "3.10.6"
  }
 },
 "nbformat": 4,
 "nbformat_minor": 5
}
