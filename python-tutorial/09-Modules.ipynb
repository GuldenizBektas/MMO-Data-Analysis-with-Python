{
 "cells": [
  {
   "cell_type": "markdown",
   "id": "6941fa64",
   "metadata": {},
   "source": [
    "# Modules\n",
    "\n",
    "A module is a piece of software that has a specific functionality. A Python module is a file that contains Python code.\n",
    "\n",
    "For example, when building a shopping cart application, you can have one module for calculating prices and another module for managing items in the cart. Each module is a separate Python source code file.\n",
    "\n",
    "A module has a name specified by the filename without the `.py` extension. For example, if you have a file called `pricing.py`, the module name is `pricing`.\n",
    "\n",
    "There is a file called `pricing.py` in this folder. You can create it for your local too. Remember, it should be `.py` file, not a notebook `.ipynb` file. It wouldn't recognize it."
   ]
  },
  {
   "cell_type": "code",
   "execution_count": 1,
   "id": "d2d1b1c7",
   "metadata": {},
   "outputs": [
    {
     "ename": "ModuleNotFoundError",
     "evalue": "No module named 'Functions'",
     "output_type": "error",
     "traceback": [
      "\u001b[0;31m---------------------------------------------------------------------------\u001b[0m",
      "\u001b[0;31mModuleNotFoundError\u001b[0m                       Traceback (most recent call last)",
      "Cell \u001b[0;32mIn [1], line 1\u001b[0m\n\u001b[0;32m----> 1\u001b[0m \u001b[38;5;28;01mimport\u001b[39;00m \u001b[38;5;21;01mFunctions\u001b[39;00m\n",
      "\u001b[0;31mModuleNotFoundError\u001b[0m: No module named 'Functions'"
     ]
    }
   ],
   "source": [
    "import Functions # we have functions in it but it doesn't recognize it since it is a notebook"
   ]
  },
  {
   "cell_type": "markdown",
   "id": "860f66f4",
   "metadata": {},
   "source": [
    "The `pricing` module has two functions that calculate the net price and tax from the selling price, tax rate, and discount. To use objects defined in a module from another file, you can use the `import` statement."
   ]
  },
  {
   "cell_type": "code",
   "execution_count": 2,
   "id": "222fa4d3",
   "metadata": {},
   "outputs": [],
   "source": [
    "import pricing"
   ]
  },
  {
   "cell_type": "code",
   "execution_count": 3,
   "id": "3f42201b",
   "metadata": {},
   "outputs": [],
   "source": [
    "from pricing import get_net_price, get_tax # *"
   ]
  },
  {
   "cell_type": "code",
   "execution_count": 4,
   "id": "531ed5bb",
   "metadata": {},
   "outputs": [
    {
     "data": {
      "text/plain": [
       "101.0"
      ]
     },
     "execution_count": 4,
     "metadata": {},
     "output_type": "execute_result"
    }
   ],
   "source": [
    "net_price = get_net_price(\n",
    "    price=100,\n",
    "    tax_rate=0.01\n",
    ")\n",
    "\n",
    "net_price"
   ]
  },
  {
   "cell_type": "code",
   "execution_count": 5,
   "id": "18c7fde4",
   "metadata": {},
   "outputs": [],
   "source": [
    "from pricing import get_net_price as gnp"
   ]
  },
  {
   "cell_type": "code",
   "execution_count": 6,
   "id": "d8b384bf",
   "metadata": {},
   "outputs": [
    {
     "data": {
      "text/plain": [
       "101.0"
      ]
     },
     "execution_count": 6,
     "metadata": {},
     "output_type": "execute_result"
    }
   ],
   "source": [
    "net_price = gnp(\n",
    "    price=100,\n",
    "    tax_rate=0.01\n",
    ")\n",
    "\n",
    "net_price"
   ]
  }
 ],
 "metadata": {
  "kernelspec": {
   "display_name": "Python 3 (ipykernel)",
   "language": "python",
   "name": "python3"
  },
  "language_info": {
   "codemirror_mode": {
    "name": "ipython",
    "version": 3
   },
   "file_extension": ".py",
   "mimetype": "text/x-python",
   "name": "python",
   "nbconvert_exporter": "python",
   "pygments_lexer": "ipython3",
   "version": "3.10.6"
  }
 },
 "nbformat": 4,
 "nbformat_minor": 5
}
